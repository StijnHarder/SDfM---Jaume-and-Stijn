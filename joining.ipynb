{
 "cells": [
  {
   "cell_type": "markdown",
   "metadata": {},
   "source": [
    "# Merging the dataset"
   ]
  },
  {
   "cell_type": "code",
   "execution_count": 12,
   "metadata": {},
   "outputs": [],
   "source": [
    "# We import the needed libraries\n",
    "import numpy as np\n",
    "import matplotlib.pyplot as plt\n",
    "import pandas as pd\n",
    "import os"
   ]
  },
  {
   "cell_type": "code",
   "execution_count": 24,
   "metadata": {},
   "outputs": [
    {
     "name": "stdout",
     "output_type": "stream",
     "text": [
      "c:\\Users\\Jaume\\Documents\\MDDB\\SDM\\SDfM---Jaume-and-Stijn\\parquets\n"
     ]
    },
    {
     "data": {
      "text/plain": [
       "['movies_df', 'movie_title_df', 'netflix_df', 'users_df']"
      ]
     },
     "execution_count": 24,
     "metadata": {},
     "output_type": "execute_result"
    }
   ],
   "source": [
    "# We print the directory we are in\n",
    "print(os.getcwd())\n",
    "\n",
    "# We move to the parquets directory\n",
    "os.listdir(os.path.join(os.getcwd()))\n"
   ]
  },
  {
   "cell_type": "code",
   "execution_count": 34,
   "metadata": {},
   "outputs": [],
   "source": [
    "# create dfs from parquet files\n",
    "NF_reviews = pd.read_parquet('netflix_df')\n",
    "NF_movies = pd.read_parquet('movie_title_df')\n",
    "ML_reviews = pd.read_parquet('users_df')\n",
    "ML_movies = pd.read_parquet('movies_df')"
   ]
  },
  {
   "cell_type": "code",
   "execution_count": 31,
   "metadata": {},
   "outputs": [
    {
     "name": "stdout",
     "output_type": "stream",
     "text": [
      "   MovieID  Rating        Date\n",
      "0       1:     NaN        None\n",
      "1  1488844     3.0  2005-09-06\n",
      "2   822109     5.0  2005-05-13\n",
      "3   885013     4.0  2005-10-19\n",
      "4    30878     4.0  2005-12-26\n"
     ]
    }
   ],
   "source": [
    "# We print the first 5 rows of the NF_reviews dataframe\n",
    "print(NF_reviews.head())"
   ]
  },
  {
   "cell_type": "code",
   "execution_count": 35,
   "metadata": {},
   "outputs": [
    {
     "name": "stdout",
     "output_type": "stream",
     "text": [
      "  movieId  year                         title\n",
      "0       1  2003               Dinosaur Planet\n",
      "1       2  2004    Isle of Man TT 2004 Review\n",
      "2       3  1997                     Character\n",
      "3       4  1994  Paula Abdul's Get Up & Dance\n",
      "4       5  2004      The Rise and Fall of ECW\n"
     ]
    }
   ],
   "source": [
    "# We print the first 5 rows of the NF_movies dataframe\n",
    "print(NF_movies.head())"
   ]
  },
  {
   "cell_type": "code",
   "execution_count": 36,
   "metadata": {},
   "outputs": [
    {
     "name": "stdout",
     "output_type": "stream",
     "text": [
      "   userId  movieId  rating         timestamp_x   tag timestamp_y\n",
      "0       1      296     5.0 2006-05-17 15:34:04  None         NaT\n",
      "1       1      306     3.5 2006-05-17 12:26:57  None         NaT\n",
      "2       1      307     5.0 2006-05-17 12:27:08  None         NaT\n",
      "3       1      665     5.0 2006-05-17 15:13:40  None         NaT\n",
      "4       1      899     3.5 2006-05-17 12:21:50  None         NaT\n"
     ]
    }
   ],
   "source": [
    "# We print the first 5 rows of the ML_reviews dataframe\n",
    "print(ML_reviews.head())"
   ]
  },
  {
   "cell_type": "code",
   "execution_count": 37,
   "metadata": {},
   "outputs": [
    {
     "name": "stdout",
     "output_type": "stream",
     "text": [
      "   movieId  imdbId   tmdbId                         title  (no genres listed)  \\\n",
      "0        1  114709    862.0                    Toy Story                    0   \n",
      "1        2  113497   8844.0                      Jumanji                    0   \n",
      "2        3  113228  15602.0             Grumpier Old Men                    0   \n",
      "3        4  114885  31357.0            Waiting to Exhale                    0   \n",
      "4        5  113041  11862.0  Father of the Bride Part II                    0   \n",
      "\n",
      "   Action  Adventure  Animation  Children  Comedy  ...  Horror  IMAX  Musical  \\\n",
      "0       0          1          1         1       1  ...       0     0        0   \n",
      "1       0          1          0         1       0  ...       0     0        0   \n",
      "2       0          0          0         0       1  ...       0     0        0   \n",
      "3       0          0          0         0       1  ...       0     0        0   \n",
      "4       0          0          0         0       1  ...       0     0        0   \n",
      "\n",
      "   Mystery  Romance  Sci-Fi  Thriller  War  Western  rel_year  \n",
      "0        0        0       0         0    0        0      1995  \n",
      "1        0        0       0         0    0        0      1995  \n",
      "2        0        1       0         0    0        0      1995  \n",
      "3        0        1       0         0    0        0      1995  \n",
      "4        0        0       0         0    0        0      1995  \n",
      "\n",
      "[5 rows x 25 columns]\n"
     ]
    }
   ],
   "source": [
    "# We print the first 5 rows of the ML_movies dataframe\n",
    "print(ML_movies.head())"
   ]
  },
  {
   "cell_type": "markdown",
   "metadata": {},
   "source": [
    "### Merging the reviews with the movies"
   ]
  },
  {
   "cell_type": "code",
   "execution_count": null,
   "metadata": {},
   "outputs": [],
   "source": [
    "# Now we will merge the movies ML with the reviews ML\n"
   ]
  }
 ],
 "metadata": {
  "language_info": {
   "name": "python"
  }
 },
 "nbformat": 4,
 "nbformat_minor": 2
}
