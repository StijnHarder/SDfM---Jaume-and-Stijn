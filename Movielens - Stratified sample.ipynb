{
 "cells": [
  {
   "cell_type": "markdown",
   "metadata": {},
   "source": [
    "## Stratified Sampling code: Movielens\n",
    "\n",
    "We will use this code to build a stratified sample from the original `Movielens` dataset. Since the dataset is so big, we won't be able to run the models on the whole dataset. Instead, we will build as large of a sample as possible for the models and run them through this sample. For this purpose, we are going to use `Stratified K-Fold` to ensure the sample is composed of the proper distribution of data."
   ]
  },
  {
   "cell_type": "code",
   "execution_count": 3,
   "metadata": {},
   "outputs": [],
   "source": [
    "import numpy as np\n",
    "import pandas as pd"
   ]
  },
  {
   "cell_type": "code",
   "execution_count": 4,
   "metadata": {},
   "outputs": [],
   "source": [
    "from IPython.core.interactiveshell import InteractiveShell\n",
    "InteractiveShell.ast_node_interactivity = \"all\" # to make jupyter print all outputs, not just the last one\n",
    "from IPython.core.display import HTML # to pretty print pandas df and be able to copy them over (e.g. to ppt slides)"
   ]
  },
  {
   "cell_type": "code",
   "execution_count": 5,
   "metadata": {},
   "outputs": [],
   "source": [
    "df = pd.read_parquet('cleaned/movielens_parquet')"
   ]
  },
  {
   "cell_type": "markdown",
   "metadata": {},
   "source": [
    "Exporting and importing in parquet leaded to the the conversion of the lists in movielens data in ``review_data`` column to ``numpy`` arrays. We need to convert them back to lists to use the same approach as in the ``EDA Netflix.ipynb`` to take samples."
   ]
  },
  {
   "cell_type": "code",
   "execution_count": 6,
   "metadata": {},
   "outputs": [],
   "source": [
    "# convert numpy arrays to lists in the 'review_data' column\n",
    "df['review_data'] = df['review_data'].apply(lambda x: x.tolist() if isinstance(x, np.ndarray) else x)"
   ]
  },
  {
   "cell_type": "markdown",
   "metadata": {},
   "source": [
    "\n",
    "### Explanation of Stratified Sampling Code for Movielens Dataset\n",
    "\n",
    "This code is designed to create a stratified sample from the Movielens dataset based on the number of reviews for each movie. Here's a breakdown of the steps involved:\n",
    "\n",
    "1. Count the Number of Reviews per Movie:\n",
    "The first step involves counting the number of reviews per movie in the dataset. This is achieved by creating a new column called num_reviews and populating it with the count of reviews for each movie.\n",
    "\n",
    "2. Divide the Dataset into Strata:\n",
    "Next, the dataset is divided into strata based on the number of reviews. Quintiles are calculated to determine the boundaries for these strata, ensuring an equal distribution of data. These boundaries are adjusted for monotonic increase and assigned labels 'Q1' through 'Q5' to represent the five strata.\n",
    "\n",
    "3. Categorize Movies into Strata:\n",
    "Movies are then categorized into these strata based on the number of reviews they have received. This is done by creating a new column named review_stratum, which assigns each movie to a specific stratum according to its number of reviews.\n",
    "\n",
    "Now, let's delve into the code to see how these steps are implemented."
   ]
  },
  {
   "cell_type": "code",
   "execution_count": 7,
   "metadata": {},
   "outputs": [],
   "source": [
    "# Step 1: Count the number of dictionaries per row in the review_data column, replacing NaN with 0\n",
    "df['num_reviews'] = df['review_data'].apply(lambda x: len(x) if isinstance(x, list) else 0)\n",
    "\n",
    "# Step 2: Divide the dataset into strata based on the number of reviews for each movie\n",
    "quintiles = df['num_reviews'].quantile([0, 0.20, 0.40, 0.60, 0.80, 1.0])\n",
    "\n",
    "# Adjust the boundaries to ensure monotonic increase\n",
    "stratum_boundaries = [0, quintiles[0.20], quintiles[0.40], quintiles[0.60], quintiles[0.80], quintiles[1.0]]\n",
    "stratum_labels = ['Q1', 'Q2', 'Q3', 'Q4', 'Q5']\n",
    "\n",
    "# Create a new column to categorize movies into strata based on the number of reviews\n",
    "df['review_stratum'] = pd.cut(df['num_reviews'], bins=stratum_boundaries, labels=stratum_labels)"
   ]
  },
  {
   "cell_type": "markdown",
   "metadata": {},
   "source": [
    "In the following snippet we will create the sample:\n",
    "\n",
    "1. Count the Number of Reviews per Movie in the original Dataframe:\n",
    "Initially, the code counts the number of reviews per movie in the dataset and stores the count in a new column in the sample called ``num_reviews``.\n",
    "\n",
    "2. Divide the Sample Dataset into Strata:\n",
    "The dataset is divided into strata based on the number of reviews per movie. Quintiles are computed to determine the boundaries for these strata, ensuring a proportional distribution of movies across different strata.\n",
    "\n",
    "3. Define Sample Size per Stratum:\n",
    "A fixed sample size is defined for each stratum to ensure adequate representation in the final sampled dataset.\n",
    "\n",
    "4. Apply Random Sampling within Each Stratum:\n",
    "Within each stratum, random sampling techniques are applied to select movies. This ensures that the sampled dataset reflects a diverse range of movies across different strata.\n",
    "\n",
    "5. Create the Sampled DataFrame:\n",
    "Finally, the sampled movies are collected to create the sampled DataFrame, containing essential movie information such as ID, review data, genres, year, title, review stratum, and the number of reviews."
   ]
  },
  {
   "cell_type": "code",
   "execution_count": 8,
   "metadata": {},
   "outputs": [],
   "source": [
    "import random\n",
    "\n",
    "sampled_df = df[df.columns]\n",
    "\n",
    "# Step 1: Count the number of dictionaries per row in the review_data column\n",
    "sampled_df['num_reviews'] = df['review_data'].apply(lambda x: len(x) if isinstance(x, list) else 0)\n",
    "\n",
    "# Step 2: Divide the dataset into strata based on the number of reviews for each movie\n",
    "quintiles = sampled_df['num_reviews'].quantile([0, 0.20, 0.40, 0.60, 0.80, 1.0])\n",
    "# Adjust the boundaries to include fewer movies with a large number of reviews\n",
    "stratum_boundaries = [0, quintiles[0.20], quintiles[0.40], quintiles[0.60], quintiles[0.80], quintiles[1.0]]\n",
    "stratum_labels = ['Q1', 'Q2', 'Q3', 'Q4','Q5']\n",
    "\n",
    "# Create a new column to categorize movies into strata based on the number of reviews\n",
    "sampled_df['review_stratum'] = pd.cut(sampled_df['num_reviews'], bins=stratum_boundaries, labels=stratum_labels)\n",
    "\n",
    "# Step 3: Define sample size per stratum\n",
    "sample_size_per_stratum = 100\n",
    "\n",
    "# Step 4: Within each stratum, apply random sampling techniques to select movies\n",
    "sampled_movies = []\n",
    "\n",
    "# Iterate over each stratum\n",
    "for stratum in sampled_df['review_stratum'].dropna().unique():  # Drop NaN values\n",
    "    # Filter movies in the current stratum\n",
    "    stratum_movies = sampled_df[sampled_df['review_stratum'] == stratum]\n",
    "    \n",
    "    # Apply simple random sampling to select movies within the stratum\n",
    "    sampled_indices = random.sample(list(stratum_movies.index), sample_size_per_stratum)\n",
    "    sampled_movies.extend(sampled_indices)\n",
    "\n",
    "# Step 5: Create the sampled DataFrame\n",
    "sampled_df_movielens = sampled_df.loc[sampled_movies, ['movieId', 'review_data', 'genres', 'year', 'title', 'review_stratum','num_reviews']]"
   ]
  },
  {
   "cell_type": "markdown",
   "metadata": {},
   "source": [
    "We summarize the information in the sample:\n",
    "\n",
    "The following code will analyze the sampled dataset from the Movielens dataset. It will extract user IDs from the review data, count the number of unique users and total reviews, and calculate averages for the number of reviews per unique user and per movie ID. Finally, it will print out these summary statistics. Overall, it will provide insights into the user engagement and review distribution within the sampled dataset."
   ]
  },
  {
   "cell_type": "code",
   "execution_count": 9,
   "metadata": {},
   "outputs": [
    {
     "name": "stdout",
     "output_type": "stream",
     "text": [
      "There are 50381 reviews in the sampled dataframe.\n",
      "There are 37841 unique users who have reviewed a movie.\n",
      "There are 500 movieIds in the sampled dataset.\n",
      "A unique user places 1 reviews on average in the sampled dataset.\n",
      "A movieId receives 101 reviews on average in the sampled dataset.\n"
     ]
    }
   ],
   "source": [
    "# Extract all user IDs from the 'review_data' column using list comprehension\n",
    "user_ids = [review_entry.get('userId') for row in sampled_df_movielens['review_data'] for review_entry in row if review_entry.get('userId')]\n",
    "\n",
    "# Count the number of unique users and reviews\n",
    "unique_users = set(user_ids)\n",
    "amount_of_reviews = len(user_ids)\n",
    "\n",
    "# Calculate averages\n",
    "avg_reviews_per_unique_user = amount_of_reviews / len(unique_users)\n",
    "avg_reviews_per_movie_id = amount_of_reviews / len(sampled_df_movielens)\n",
    "\n",
    "# Print results\n",
    "print(\"There are {} reviews in the sampled dataframe.\".format(amount_of_reviews))\n",
    "print(\"There are {} unique users who have reviewed a movie.\".format(len(unique_users)))\n",
    "print(\"There are {} movieIds in the sampled dataset.\".format(len(sampled_df_movielens)))\n",
    "print(\"A unique user places {} reviews on average in the sampled dataset.\".format(round(avg_reviews_per_unique_user)))\n",
    "print(\"A movieId receives {} reviews on average in the sampled dataset.\".format(round(avg_reviews_per_movie_id)))"
   ]
  },
  {
   "cell_type": "markdown",
   "metadata": {},
   "source": [
    "### T-Tests to Compare the Means:\n",
    "\n",
    "We will perform t-tests to compare the mean of the global population to that of the strata. This analysis will allow us to ascertain whether there are significant differences in the distribution of certain characteristics across different strata. By conducting these tests, we aim to gain insights into potential variations or patterns within the dataset that may influence our understanding of the underlying population."
   ]
  },
  {
   "cell_type": "code",
   "execution_count": 10,
   "metadata": {},
   "outputs": [
    {
     "name": "stdout",
     "output_type": "stream",
     "text": [
      "T-test Results:\n",
      "Stratum: Q5\n",
      "T-statistic: 1.2592854628851795\n",
      "P-value: 0.20795623155902943\n",
      "The difference in means is not statistically significant (fail to reject the null hypothesis)\n",
      "Stratum: Q4\n",
      "T-statistic: -0.8454720209041986\n",
      "P-value: 0.3978709545561665\n",
      "The difference in means is not statistically significant (fail to reject the null hypothesis)\n",
      "Stratum: Q3\n",
      "T-statistic: -1.2799855650550944\n",
      "P-value: 0.2006020214097563\n",
      "The difference in means is not statistically significant (fail to reject the null hypothesis)\n",
      "Stratum: Q2\n",
      "T-statistic: nan\n",
      "P-value: nan\n",
      "The difference in means is not statistically significant (fail to reject the null hypothesis)\n",
      "Stratum: Q1\n",
      "T-statistic: nan\n",
      "P-value: nan\n",
      "The difference in means is not statistically significant (fail to reject the null hypothesis)\n"
     ]
    },
    {
     "name": "stderr",
     "output_type": "stream",
     "text": [
      "c:\\Users\\Jaume\\anaconda3\\envs\\SDM\\Lib\\site-packages\\scipy\\stats\\_axis_nan_policy.py:531: RuntimeWarning: Precision loss occurred in moment calculation due to catastrophic cancellation. This occurs when the data are nearly identical. Results may be unreliable.\n",
      "  res = hypotest_fun_out(*samples, **kwds)\n"
     ]
    }
   ],
   "source": [
    "from scipy.stats import ttest_ind\n",
    "\n",
    "# Define the strata\n",
    "strata = sampled_df_movielens['review_stratum'].unique()\n",
    "\n",
    "# Perform t-tests for each stratum\n",
    "t_statistics = {}\n",
    "p_values = {}\n",
    "for stratum in strata:\n",
    "    # Extract the 'num_reviews' column for the current stratum\n",
    "    sampled_num_reviews_stratum = sampled_df_movielens[sampled_df_movielens['review_stratum'] == stratum]['num_reviews']\n",
    "    population_num_reviews_stratum = df[df['review_stratum'] == stratum]['num_reviews']\n",
    "    \n",
    "    # Perform the t-test\n",
    "    t_statistic, p_value = ttest_ind(sampled_num_reviews_stratum, population_num_reviews_stratum)\n",
    "    \n",
    "    # Store the results\n",
    "    t_statistics[stratum] = t_statistic\n",
    "    p_values[stratum] = p_value\n",
    "\n",
    "# Print the results\n",
    "print(\"T-test Results:\")\n",
    "for stratum in strata:\n",
    "    print(f\"Stratum: {stratum}\")\n",
    "    print(f\"T-statistic: {t_statistics[stratum]}\")\n",
    "    print(f\"P-value: {p_values[stratum]}\")\n",
    "    alpha = 0.05\n",
    "    if p_values[stratum] < alpha:\n",
    "        print(\"The difference in means is statistically significant (reject the null hypothesis)\")\n",
    "    else:\n",
    "        print(\"The difference in means is not statistically significant (fail to reject the null hypothesis)\")\n"
   ]
  },
  {
   "cell_type": "markdown",
   "metadata": {},
   "source": [
    "The t-test results indicate that there are no statistically significant differences in means across the various strata (Q1 to Q5) of the dataset. In each stratum, the p-values obtained are greater than the typical significance level of 0.05, suggesting that we fail to reject the null hypothesis of no difference in means. \n",
    "\n",
    "Therefore, based on these results, we conclude that there is no evidence to suggest that the means of the populations represented by each stratum significantly differ from the overall population mean. However, it's worth noting that there were computational issues preventing the calculation of t-statistics and p-values for Stratum Q2 and Q1, but based on the available information, the same conclusion can be inferred. Overall, this suggests that the distribution of certain characteristics across different strata is consistent with the overall population distribution."
   ]
  },
  {
   "cell_type": "markdown",
   "metadata": {},
   "source": [
    "Finally we export the stratified sample to use it in the models."
   ]
  },
  {
   "cell_type": "code",
   "execution_count": 11,
   "metadata": {},
   "outputs": [],
   "source": [
    "sampled_df_movielens.to_parquet('cleaned/strat_sample_movielens')"
   ]
  }
 ],
 "metadata": {
  "kernelspec": {
   "display_name": "Python 3",
   "language": "python",
   "name": "python3"
  },
  "language_info": {
   "codemirror_mode": {
    "name": "ipython",
    "version": 3
   },
   "file_extension": ".py",
   "mimetype": "text/x-python",
   "name": "python",
   "nbconvert_exporter": "python",
   "pygments_lexer": "ipython3",
   "version": "3.11.8"
  }
 },
 "nbformat": 4,
 "nbformat_minor": 2
}
