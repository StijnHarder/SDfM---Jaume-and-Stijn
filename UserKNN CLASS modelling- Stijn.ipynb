{
 "cells": [
  {
   "cell_type": "code",
   "execution_count": 17,
   "metadata": {},
   "outputs": [],
   "source": [
    "import pandas as pd\n",
    "import numpy as np"
   ]
  },
  {
   "cell_type": "code",
   "execution_count": 18,
   "metadata": {},
   "outputs": [],
   "source": [
    "from IPython.core.interactiveshell import InteractiveShell\n",
    "InteractiveShell.ast_node_interactivity = \"all\" # to make jupyter print all outputs, not just the last one\n",
    "from IPython.core.display import HTML # to pretty print pandas df and be able to copy them over (e.g. to ppt slides)"
   ]
  },
  {
   "cell_type": "code",
   "execution_count": 19,
   "metadata": {},
   "outputs": [],
   "source": [
    "netflix_df = pd.read_parquet('cleaned/netflix_parquet')\n",
    "movielens_df = pd.read_parquet('cleaned/movielens_parquet')"
   ]
  },
  {
   "cell_type": "code",
   "execution_count": 20,
   "metadata": {},
   "outputs": [],
   "source": [
    "# netflix_df = netflix_df[netflix_df['review_data'].apply(lambda x: len(x) if x is not None else 0) > 500]\n",
    "netflix_df = netflix_df[netflix_df['review_data'].apply(lambda x: 30 <= len(x) <= 350 if x is not None else False)]\n",
    "movielens_df = movielens_df[movielens_df['review_data'].apply(lambda x: 30 <= len(x) <= 350 if x is not None else False)]"
   ]
  },
  {
   "cell_type": "code",
   "execution_count": 21,
   "metadata": {},
   "outputs": [],
   "source": [
    "n_rows = 10"
   ]
  },
  {
   "cell_type": "code",
   "execution_count": 22,
   "metadata": {},
   "outputs": [
    {
     "data": {
      "text/html": [
       "<div>\n",
       "<style scoped>\n",
       "    .dataframe tbody tr th:only-of-type {\n",
       "        vertical-align: middle;\n",
       "    }\n",
       "\n",
       "    .dataframe tbody tr th {\n",
       "        vertical-align: top;\n",
       "    }\n",
       "\n",
       "    .dataframe thead th {\n",
       "        text-align: right;\n",
       "    }\n",
       "</style>\n",
       "<table border=\"1\" class=\"dataframe\">\n",
       "  <thead>\n",
       "    <tr style=\"text-align: right;\">\n",
       "      <th></th>\n",
       "      <th>movieId</th>\n",
       "      <th>review_data</th>\n",
       "    </tr>\n",
       "  </thead>\n",
       "  <tbody>\n",
       "    <tr>\n",
       "      <th>648</th>\n",
       "      <td>649</td>\n",
       "      <td>[{'date': 2002-01-09, 'rating': 1.0, 'userId':...</td>\n",
       "    </tr>\n",
       "    <tr>\n",
       "      <th>84</th>\n",
       "      <td>85</td>\n",
       "      <td>[{'date': 2005-07-11, 'rating': 4.0, 'userId':...</td>\n",
       "    </tr>\n",
       "    <tr>\n",
       "      <th>926</th>\n",
       "      <td>927</td>\n",
       "      <td>[{'date': 2005-12-05, 'rating': 3.0, 'userId':...</td>\n",
       "    </tr>\n",
       "    <tr>\n",
       "      <th>734</th>\n",
       "      <td>735</td>\n",
       "      <td>[{'date': 2005-07-06, 'rating': 4.0, 'userId':...</td>\n",
       "    </tr>\n",
       "    <tr>\n",
       "      <th>1336</th>\n",
       "      <td>1337</td>\n",
       "      <td>[{'date': 2005-06-08, 'rating': 3.0, 'userId':...</td>\n",
       "    </tr>\n",
       "    <tr>\n",
       "      <th>1522</th>\n",
       "      <td>1523</td>\n",
       "      <td>[{'date': 2005-05-17, 'rating': 5.0, 'userId':...</td>\n",
       "    </tr>\n",
       "    <tr>\n",
       "      <th>967</th>\n",
       "      <td>968</td>\n",
       "      <td>[{'date': 2004-11-08, 'rating': 5.0, 'userId':...</td>\n",
       "    </tr>\n",
       "    <tr>\n",
       "      <th>978</th>\n",
       "      <td>979</td>\n",
       "      <td>[{'date': 2005-08-27, 'rating': 5.0, 'userId':...</td>\n",
       "    </tr>\n",
       "    <tr>\n",
       "      <th>1252</th>\n",
       "      <td>1253</td>\n",
       "      <td>[{'date': 2005-09-17, 'rating': 1.0, 'userId':...</td>\n",
       "    </tr>\n",
       "    <tr>\n",
       "      <th>1725</th>\n",
       "      <td>1726</td>\n",
       "      <td>[{'date': 2005-12-16, 'rating': 4.0, 'userId':...</td>\n",
       "    </tr>\n",
       "  </tbody>\n",
       "</table>\n",
       "</div>"
      ],
      "text/plain": [
       "      movieId                                        review_data\n",
       "648       649  [{'date': 2002-01-09, 'rating': 1.0, 'userId':...\n",
       "84         85  [{'date': 2005-07-11, 'rating': 4.0, 'userId':...\n",
       "926       927  [{'date': 2005-12-05, 'rating': 3.0, 'userId':...\n",
       "734       735  [{'date': 2005-07-06, 'rating': 4.0, 'userId':...\n",
       "1336     1337  [{'date': 2005-06-08, 'rating': 3.0, 'userId':...\n",
       "1522     1523  [{'date': 2005-05-17, 'rating': 5.0, 'userId':...\n",
       "967       968  [{'date': 2004-11-08, 'rating': 5.0, 'userId':...\n",
       "978       979  [{'date': 2005-08-27, 'rating': 5.0, 'userId':...\n",
       "1252     1253  [{'date': 2005-09-17, 'rating': 1.0, 'userId':...\n",
       "1725     1726  [{'date': 2005-12-16, 'rating': 4.0, 'userId':..."
      ]
     },
     "execution_count": 22,
     "metadata": {},
     "output_type": "execute_result"
    },
    {
     "data": {
      "text/html": [
       "<div>\n",
       "<style scoped>\n",
       "    .dataframe tbody tr th:only-of-type {\n",
       "        vertical-align: middle;\n",
       "    }\n",
       "\n",
       "    .dataframe tbody tr th {\n",
       "        vertical-align: top;\n",
       "    }\n",
       "\n",
       "    .dataframe thead th {\n",
       "        text-align: right;\n",
       "    }\n",
       "</style>\n",
       "<table border=\"1\" class=\"dataframe\">\n",
       "  <thead>\n",
       "    <tr style=\"text-align: right;\">\n",
       "      <th></th>\n",
       "      <th>movieId</th>\n",
       "      <th>review_data</th>\n",
       "    </tr>\n",
       "  </thead>\n",
       "  <tbody>\n",
       "    <tr>\n",
       "      <th>1932</th>\n",
       "      <td>2029</td>\n",
       "      <td>[{'date': 2000-01-18, 'rating': 4.0, 'userId':...</td>\n",
       "    </tr>\n",
       "    <tr>\n",
       "      <th>16102</th>\n",
       "      <td>89305</td>\n",
       "      <td>[{'date': 2011-12-19, 'rating': 4.0, 'userId':...</td>\n",
       "    </tr>\n",
       "    <tr>\n",
       "      <th>18076</th>\n",
       "      <td>101088</td>\n",
       "      <td>[{'date': 2020-05-10, 'rating': 2.5, 'userId':...</td>\n",
       "    </tr>\n",
       "    <tr>\n",
       "      <th>12563</th>\n",
       "      <td>64285</td>\n",
       "      <td>[{'date': 2009-01-29, 'rating': 4.5, 'userId':...</td>\n",
       "    </tr>\n",
       "    <tr>\n",
       "      <th>546</th>\n",
       "      <td>554</td>\n",
       "      <td>[{'date': 2000-03-20, 'rating': 1.0, 'userId':...</td>\n",
       "    </tr>\n",
       "    <tr>\n",
       "      <th>6352</th>\n",
       "      <td>6517</td>\n",
       "      <td>[{'date': 2009-12-14, 'rating': 2.5, 'userId':...</td>\n",
       "    </tr>\n",
       "    <tr>\n",
       "      <th>5133</th>\n",
       "      <td>5264</td>\n",
       "      <td>[{'date': 2020-03-17, 'rating': 2.0, 'userId':...</td>\n",
       "    </tr>\n",
       "    <tr>\n",
       "      <th>23832</th>\n",
       "      <td>131050</td>\n",
       "      <td>[{'date': 2015-07-08, 'rating': 5.0, 'userId':...</td>\n",
       "    </tr>\n",
       "    <tr>\n",
       "      <th>3871</th>\n",
       "      <td>3991</td>\n",
       "      <td>[{'date': 2001-07-05, 'rating': 3.0, 'userId':...</td>\n",
       "    </tr>\n",
       "    <tr>\n",
       "      <th>7591</th>\n",
       "      <td>8157</td>\n",
       "      <td>[{'date': 2009-02-06, 'rating': 4.5, 'userId':...</td>\n",
       "    </tr>\n",
       "  </tbody>\n",
       "</table>\n",
       "</div>"
      ],
      "text/plain": [
       "       movieId                                        review_data\n",
       "1932      2029  [{'date': 2000-01-18, 'rating': 4.0, 'userId':...\n",
       "16102    89305  [{'date': 2011-12-19, 'rating': 4.0, 'userId':...\n",
       "18076   101088  [{'date': 2020-05-10, 'rating': 2.5, 'userId':...\n",
       "12563    64285  [{'date': 2009-01-29, 'rating': 4.5, 'userId':...\n",
       "546        554  [{'date': 2000-03-20, 'rating': 1.0, 'userId':...\n",
       "6352      6517  [{'date': 2009-12-14, 'rating': 2.5, 'userId':...\n",
       "5133      5264  [{'date': 2020-03-17, 'rating': 2.0, 'userId':...\n",
       "23832   131050  [{'date': 2015-07-08, 'rating': 5.0, 'userId':...\n",
       "3871      3991  [{'date': 2001-07-05, 'rating': 3.0, 'userId':...\n",
       "7591      8157  [{'date': 2009-02-06, 'rating': 4.5, 'userId':..."
      ]
     },
     "execution_count": 22,
     "metadata": {},
     "output_type": "execute_result"
    }
   ],
   "source": [
    "df = (netflix_df.sample(n=n_rows,random_state=42))[['movieId','review_data']]\n",
    "df\n",
    "df2 = (movielens_df.sample(n=n_rows,random_state=42))[['movieId','review_data']]\n",
    "df2"
   ]
  },
  {
   "cell_type": "code",
   "execution_count": 23,
   "metadata": {},
   "outputs": [
    {
     "data": {
      "text/plain": [
       "1932"
      ]
     },
     "execution_count": 23,
     "metadata": {},
     "output_type": "execute_result"
    },
    {
     "data": {
      "text/plain": [
       "10"
      ]
     },
     "execution_count": 23,
     "metadata": {},
     "output_type": "execute_result"
    },
    {
     "data": {
      "text/plain": [
       "1000"
      ]
     },
     "execution_count": 23,
     "metadata": {},
     "output_type": "execute_result"
    },
    {
     "data": {
      "text/plain": [
       "10"
      ]
     },
     "execution_count": 23,
     "metadata": {},
     "output_type": "execute_result"
    }
   ],
   "source": [
    "review_data = df['review_data'].values\n",
    "user_ids = np.concatenate([np.array([entry['userId'] for entry in row]) for row in review_data])\n",
    "ratings = np.concatenate([np.array([entry['rating'] for entry in row]) for row in review_data])\n",
    "movieIds = np.concatenate([[movieId] * len(row) for movieId, row in zip(df['movieId'], review_data)])\n",
    "len(user_ids)\n",
    "len(np.unique(movieIds))\n",
    "\n",
    "review_data2 = df2['review_data'].values\n",
    "user_ids2 = np.concatenate([np.array([entry['userId'] for entry in row]) for row in review_data2])\n",
    "ratings2 = np.concatenate([np.array([entry['rating'] for entry in row]) for row in review_data2])\n",
    "movieIds2 = np.concatenate([[movieId] * len(row) for movieId, row in zip(df['movieId'], review_data2)])\n",
    "len(user_ids2)\n",
    "len(np.unique(movieIds2))"
   ]
  },
  {
   "cell_type": "markdown",
   "metadata": {},
   "source": [
    "### Set-up user-item matrix\n",
    "First we will create a user-item matrix which records all the user-item interactions.\n",
    "\n",
    "\n",
    "### `create_user_item_matrix` Function Explanation\n",
    "\n",
    "### Steps:\n",
    "1. **Extract Review Data**:\n",
    "   - Extract the review data from the provided DataFrame, which contains user IDs, ratings, and movie IDs.\n",
    "\n",
    "2. **Create User and Movie IDs Arrays**:\n",
    "   - Extract user IDs, ratings, and movie IDs from the review data and concatenate them into separate arrays.\n",
    "   - Generate dictionaries to map user IDs and movie IDs to unique indices in the user-item matrix.\n",
    "\n",
    "3. **Initialize User-Item Matrix**:\n",
    "   - Determine the dimensions of the user-item matrix based on the number of unique users and movies.\n",
    "   - Initialize an empty user-item matrix filled with NaN values.\n",
    "\n",
    "4. **Populate User-Item Matrix**:\n",
    "   - Iterate through the review data and populate the user-item matrix with ratings.\n",
    "   - Map user and movie IDs to their corresponding indices in the matrix and insert the ratings.\n",
    "\n",
    "5. **Return Results**:\n",
    "   - Return the user-item matrix along with dictionaries mapping user and movie IDs to indices, and arrays containing user and movie IDs.\n",
    "  \n",
    "### Functions Used and Purpose:\n",
    "\n",
    "- **`np.concatenate()`**: Used to concatenate arrays containing user IDs, ratings, and movie IDs extracted from the review data.\n",
    "- **`enumerate()`**: Used to iterate over the unique user IDs and movie IDs and generate indices for mapping.\n",
    "- **`np.unique()`**: Used to find the unique user IDs and movie IDs in the review data.\n",
    "- **`np.full()`**: Used to initialize an empty user-item matrix filled with NaN values.\n",
    "- **`zip()`**: Used to iterate over multiple iterables simultaneously (user IDs, movie IDs, ratings).\n",
    "- **`enumerate()`**: Used to iterate over the indices and elements of an iterable (user IDs, movie IDs) simultaneously.\n",
    "- **Indexing and Slicing**: Used to access and modify elements in arrays and matrices."
   ]
  },
  {
   "cell_type": "code",
   "execution_count": 24,
   "metadata": {},
   "outputs": [],
   "source": [
    "def create_user_item_matrix(train_test_val_set):\n",
    "    \"\"\"\n",
    "    Creates a user-item matrix from the provided dataset containing review data.\n",
    "\n",
    "    Parameters:\n",
    "    train_test_val_set (DataFrame): DataFrame containing review data with columns 'review_data',\n",
    "                                    which is a list of dictionaries with keys 'userId', 'rating',\n",
    "                                    and 'movieId'.\n",
    "\n",
    "    Returns:\n",
    "    user_item_matrix (numpy.ndarray): Matrix representing users' ratings for items (movies), the matrix is an NumPy array which contains lists of user-item interactions, meaning a user and their corresponding ratings to the movieIds.    \n",
    "    \n",
    "    user_id_dict (dict): Dictionary mapping user IDs to unique indices in the user-item matrix.\n",
    "    \n",
    "    movie_id_dict (dict): Dictionary mapping movie IDs to unique indices in the user-item matrix.\n",
    "    \n",
    "    user_ids (numpy.ndarray): Array containing user IDs corresponding to each rating in the matrix.\n",
    "    \n",
    "    movie_ids (numpy.ndarray): Array containing movie IDs corresponding to each rating in the matrix.\n",
    "\n",
    "    \"\"\"\n",
    "    review_data = train_test_val_set['review_data'].values\n",
    "    user_ids = np.concatenate([np.array([entry['userId'] for entry in row]) for row in review_data])\n",
    "    ratings = np.concatenate([np.array([entry['rating'] for entry in row]) for row in review_data])\n",
    "    movieIds = np.concatenate([[movieId] * len(row) for movieId, row in zip(train_test_val_set['movieId'], review_data)])\n",
    "\n",
    "    # create dictionaries to map user IDs and movie IDs to unique indices to map over\n",
    "    user_id_dict = {user_id: index for index, user_id in enumerate(np.unique(user_ids))}\n",
    "    movie_id_dict = {movie_id: index for index, movie_id in enumerate(np.unique(movieIds))}\n",
    "\n",
    "    # initialize an empty user-item matrix\n",
    "    user_count = len(user_id_dict)\n",
    "    movie_count = len(movie_id_dict)\n",
    "    user_item_matrix = np.full((user_count, movie_count), np.nan)\n",
    "\n",
    "    # populate the user-item matrix with ratings from the dataset\n",
    "    for i, (user_id, movie_id, rating) in enumerate(zip(user_ids, movieIds, ratings)):\n",
    "        user_index = user_id_dict[user_id]\n",
    "        movie_index = movie_id_dict[movie_id]\n",
    "        user_item_matrix[user_index, movie_index] = rating\n",
    "\n",
    "    return user_item_matrix, user_id_dict, movie_id_dict, user_ids, movieIds"
   ]
  },
  {
   "cell_type": "markdown",
   "metadata": {},
   "source": [
    "### Preprocessing of ratings in user-item matrix:\n",
    "We might suggest filling the empty values with 0s, but that can create issues with recommendation engines. \n",
    "\n",
    "If we were to fill this NaN with a 0, we would be incorrectly implying they greatly disliked! We are going to center each user’s ratings around 0 by deducting the row average and then fill in the missing values with 0. This means the missing data is replaced with neutral scores.\n",
    "\n",
    "### `computing_neutral_scores` Function Explanation\n",
    "\n",
    "### Functions Used and Purpose:\n",
    "- **`np.nanmean()`**: Used to calculate the average rating for each user while handling NaN (missing) values.\n",
    "  - **`axis=1`**: Specifies that the calculation is done along the rows (i.e., for each user).\n",
    "- **`np.nan_to_num()`**: Used to fill in missing data (NaN) with zeros while preserving non-NaN values.\n",
    "- **`np.reshape(-1, 1)`**: Used to reshape the array to ensure proper broadcasting during subtraction.\n",
    "- **Indexing and Slicing**: Used to access elements in arrays and matrices.\n",
    "\n",
    "### Steps:\n",
    "1. **Calculate Average Ratings**:\n",
    "   - Use `np.nanmean()` to compute the average rating for each user along the rows of the user-item matrix. This handles missing ratings (NaN) gracefully, computing the mean while ignoring NaN values.\n",
    "\n",
    "2. **Center Ratings Around 0**:\n",
    "   - Subtract the average ratings from each user's ratings in the user-item matrix. This centers each user's ratings around 0, effectively removing the user bias from the ratings.\n",
    "\n",
    "3. **Fill Missing Data with Zeros**:\n",
    "   - Use `np.nan_to_num()` to replace missing data (NaN) with zeros while preserving the existing non-NaN values. This ensures that missing ratings are treated neutrally (i.e., as if the user has not rated the item).\n",
    "\n",
    "4. **Return Normalized User Ratings**:\n",
    "   - Return the resulting normalized user ratings matrix, where missing ratings have been replaced with zeros and each user's ratings are centered around 0."
   ]
  },
  {
   "cell_type": "code",
   "execution_count": 25,
   "metadata": {},
   "outputs": [],
   "source": [
    "def computing_neutral_scores(user_item_matrix):\n",
    "    \"\"\"\n",
    "    Compute neutral scores for user-item interactions in a user-item matrix.\n",
    "\n",
    "    Parameters:\n",
    "    user_item_matrix (numpy.ndarray): Matrix representing users' ratings for items (movies).\n",
    "\n",
    "    Returns:\n",
    "    user_ratings_matrix_normed (numpy.ndarray): Matrix representing users' ratings normalized with neutral scores.\n",
    "    \"\"\"\n",
    "    # Calculate the average rating for each user\n",
    "    avg_ratings = np.nanmean(user_item_matrix, axis=1)\n",
    "\n",
    "    # Center each user's ratings around 0\n",
    "    user_ratings_matrix_centered = user_item_matrix - avg_ratings.reshape(-1, 1)\n",
    "\n",
    "    # Fill in the missing data with 0s\n",
    "    user_ratings_matrix_normed = np.nan_to_num(user_ratings_matrix_centered, nan=0)\n",
    "\n",
    "    return user_ratings_matrix_normed"
   ]
  },
  {
   "cell_type": "markdown",
   "metadata": {},
   "source": [
    "### Compute similarity:\n",
    "Regularly, cosine similarity is often used to measure the similarity between users based on their preferences or ratings for items (in this case, movies). Cosine similarity ranges from -1 to 1, where:\n",
    "\n",
    "- 1 indicates perfect similarity,\n",
    "- 0 indicates no similarity, and\n",
    "- -1 indicates perfect dissimilarity.\n",
    "\n",
    "### Interpretation:\n",
    "\n",
    "- **Positive Cosine Similarity**: Users are similar in their preferences or ratings for movies.\n",
    "- **Zero Cosine Similarity**: Users have no similarity in their preferences.\n",
    "- **Negative Cosine Similarity**: Users are dissimilar in their preferences, tending towards opposite ratings for movies.\n",
    "\n",
    "### Practical Implication:\n",
    "\n",
    "If one user likes certain types of movies, the other user tends to dislike them, or vice versa. In other words, users with negative cosine similarities have contrasting preferences, making them less suitable for recommending movies to each other.\n",
    "\n",
    "___\n",
    "\n",
    "To see how similar users are we will compute the similarity between them. I will use cosine similarity as distance measure. The manhatten norm will be used to decrease computational weight instead of euclidian norm.\n",
    "\n",
    "### Explanation `calculate_user_similarity_manhattan` Function\n",
    "\n",
    "This function calculates the cosine similarity matrix between users based on their ratings using the Manhattan norm.\n",
    "\n",
    "1. **Thresholding**: First, the function applies thresholding to the user ratings matrix. Ratings below the threshold are set to 0, ensuring that only significant ratings are considered.\n",
    "\n",
    "2. **Dot Product Calculation**: It then computes the dot product of each pair of row vectors (users) in the thresholded matrix. This represents the similarity between users based on their common rated items.\n",
    "\n",
    "3. **Norm Calculation**: Next, it calculates the norms (magnitude) of each row vector, considering only values above the threshold. This step prepares for the normalization process.\n",
    "\n",
    "4. **Normalization**: The dot products are divided by the norms of the corresponding row vectors, effectively normalizing the similarity values. This step ensures that users with a large number of ratings are not favored over users with fewer ratings.\n",
    "\n",
    "5. **Setting Diagonal to 0**: Finally, the diagonal elements of the similarity matrix are set to 0 to avoid self-similarity, as a user's rating should not be compared to itself.\n",
    "\n",
    "### Explanation of NumPy Functions\n",
    "\n",
    "- **np.dot**: Computes the dot product of arrays. Here, it calculates the dot product of the thresholded user ratings matrix with its transpose, resulting in the similarity matrix.\n",
    "  \n",
    "- **np.where**: Returns indices where a condition is true. It's used here to apply thresholding to the user ratings matrix.\n",
    "  \n",
    "- **np.sum**: Computes the sum of array elements. It calculates the norms of each row vector after thresholding, which are then used for normalization.\n",
    "  \n",
    "- **np.abs**: Computes the absolute value element-wise. Used to ensure positive values for norms calculation.\n",
    "  \n",
    "- **np.fill_diagonal**: Fills the diagonal of an array with a specified value. It's used to set diagonal elements of the similarity matrix to 0 to avoid self-similarity."
   ]
  },
  {
   "cell_type": "code",
   "execution_count": 26,
   "metadata": {},
   "outputs": [],
   "source": [
    "def calculate_user_similarity_manhattan(user_ratings_matrix, threshold):\n",
    "    \"\"\"\n",
    "    Calculate user similarity using Manhattan distance-based similarity measure.\n",
    "\n",
    "    Parameters:\n",
    "    user_ratings_matrix (numpy.ndarray): Matrix representing users' ratings for items (movies).\n",
    "    threshold (float): Threshold value for considering ratings in the similarity calculation.\n",
    "\n",
    "    Returns:\n",
    "    similarity_matrix (numpy.ndarray): Matrix representing similarity between users based on the Manhattan distance.\n",
    "\n",
    "    The Manhattan distance-based similarity measure is calculated as follows:\n",
    "    1. Compute the dot product of each pair of row vectors in the user_ratings_matrix, considering only values above the threshold.\n",
    "    2. Calculate the norms of each row vector, considering only values above the threshold.\n",
    "    3. Replace zero norms with a small value to avoid division by zero.\n",
    "    4. Calculate the similarity matrix using broadcasting, where the similarity between users i and j is given by the dot product\n",
    "       divided by the product of their norms.\n",
    "    5. Set diagonal elements to 0 to avoid self-similarity.\n",
    "\n",
    "    \"\"\"\n",
    "    # Calculate dot product of each pair of row vectors, considering only values above the threshold\n",
    "    dot_products = np.dot(np.where(user_ratings_matrix >= threshold, user_ratings_matrix, 0), user_ratings_matrix.T)\n",
    "    \n",
    "    # Calculate norms of each row vector, considering only values above the threshold\n",
    "    norms = np.sum(np.abs(np.where(user_ratings_matrix >= threshold, user_ratings_matrix, 0)), axis=1)\n",
    "    \n",
    "    # Replace zero norms with a small value to avoid division by zero\n",
    "    norms[norms == 0] = 1e-8\n",
    "    \n",
    "    # Calculate similarity matrix using broadcasting\n",
    "    similarity_matrix = dot_products / (norms[:, None] * norms)\n",
    "    \n",
    "    # Set diagonal elements to 0 to avoid self-similarity\n",
    "    np.fill_diagonal(similarity_matrix, 0)\n",
    "    \n",
    "    return similarity_matrix"
   ]
  },
  {
   "cell_type": "markdown",
   "metadata": {},
   "source": [
    "## UserKNN classifier:\n",
    "In contrast to userKNN regressor, we will now recommend items based on majority voting. Which will consist of the following:\n",
    "\n",
    "Based on the cosine similarity, the nearest neighbours will be selected, just like in the KNN regressor. Afterwards, instead of computing the avg rating and then computing the items which have the highest avg. ratings, KNN classifier will predict whether an outcome will be positive or negative, meaining positive or negative reviews. Using **majority vote** the classifier will assess the nearest neighbours on which items they postively or negatively liked and recommend the items which have the highest amount of postive likes.\n",
    "\n",
    "### `generate_user_knn_recommendations_classifier` Function Explanation\n",
    " insert explanation"
   ]
  },
  {
   "cell_type": "code",
   "execution_count": 27,
   "metadata": {},
   "outputs": [],
   "source": [
    "def recommend_movies_classification(user_id, user_ratings_matrix_normed, user_similarity_matrix, movie_id_dict, user_id_dict, threshold=0.5, k=1, top_n=5):\n",
    "    \"\"\"\n",
    "    Recommend movies to a user based on the KNN classifier approach.\n",
    "\n",
    "    Parameters:\n",
    "    user_id (int): ID of the target user.\n",
    "    user_ratings_matrix_normed (numpy.ndarray): Matrix representing users' ratings normalized with neutral scores.\n",
    "    user_similarity_matrix (numpy.ndarray): Matrix representing similarity between users.\n",
    "    movie_id_dict (dict): Dictionary mapping movie IDs to unique indices in the user-item matrix.\n",
    "    threshold (float): Threshold value for considering positive ratings.\n",
    "    k (int): Number of neighbors to consider.\n",
    "    top_n (int): Number of movies to recommend.\n",
    "\n",
    "    Returns:\n",
    "    recommended_movies (list): List of recommended movie IDs.\n",
    "    \"\"\"\n",
    "\n",
    "    # Find the target user's index in the similarity matrix\n",
    "    user_index = user_id_dict[user_id]\n",
    "\n",
    "    # Find indices of k most similar users (excluding the target user)\n",
    "    similar_users_indices = np.argsort(user_similarity_matrix[user_index])[::-1][1:k+1]\n",
    "\n",
    "    # Find movies not rated by the target user\n",
    "    # unrated_movies = np.where(np.isnan(user_ratings_matrix_normed[user_index]))[0]\n",
    "    unrated_movies = np.where(user_ratings_matrix_normed[user_index] == 0)[0]\n",
    "\n",
    "\n",
    "    # Predict whether the target user will like or dislike each unrated movie\n",
    "    predicted_classes = []\n",
    "    for movie_index in unrated_movies:\n",
    "        neighbor_ratings = user_ratings_matrix_normed[similar_users_indices, movie_index]\n",
    "        positive_votes = np.sum(neighbor_ratings >= threshold)\n",
    "        negative_votes = np.sum(neighbor_ratings < threshold)\n",
    "        predicted_class = 'positive' if positive_votes > negative_votes else 'negative'\n",
    "        predicted_classes.append(predicted_class)\n",
    "\n",
    "    # Count the votes for each movie class\n",
    "    unique_classes, class_counts = np.unique(predicted_classes, return_counts=True)\n",
    "\n",
    "    # Recommend movies with the majority predicted class\n",
    "    recommended_movies = []\n",
    "    for movie_index, predicted_class in zip(unrated_movies, predicted_classes):\n",
    "        if class_counts[np.where(unique_classes == predicted_class)[0][0]] >= k // 2 + 1:  # Majority voting\n",
    "            movie_id = list(movie_id_dict.keys())[list(movie_id_dict.values()).index(movie_index)]\n",
    "            recommended_movies.append(movie_id)\n",
    "            if len(recommended_movies) == top_n:\n",
    "                break\n",
    "\n",
    "    return recommended_movies"
   ]
  },
  {
   "cell_type": "markdown",
   "metadata": {},
   "source": [
    "### See a first batch of recommendations:\n",
    "\n",
    "By using the functions above to recommend movies above the following results are generated for each dataset:\n",
    "\n",
    "`Netflix dataset:`"
   ]
  },
  {
   "cell_type": "code",
   "execution_count": 28,
   "metadata": {},
   "outputs": [],
   "source": [
    "user_item_matrix, user_id_dict, movie_id_dict, user_ids, movieIds = create_user_item_matrix(df)\n",
    "user_ratings_matrix_normed = computing_neutral_scores(user_item_matrix)\n",
    "user_similarity_matrix_manhattan = calculate_user_similarity_manhattan(user_ratings_matrix_normed, threshold=0.5) # still explain why treshold on 0.5!!!!!!!\n",
    "user_ratings_matrix_classified = np.where(user_ratings_matrix_normed >= 0.5, 'positive', 'negative')"
   ]
  },
  {
   "cell_type": "code",
   "execution_count": 29,
   "metadata": {},
   "outputs": [
    {
     "name": "stdout",
     "output_type": "stream",
     "text": [
      "Recommended Movies for User 2012897 : [85, 649, 735, 927, 968]\n"
     ]
    }
   ],
   "source": [
    "# Example usage:\n",
    "user_id = user_ids[1]  # Specify the target user ID\n",
    "recommended_movies = recommend_movies_classification(user_id, user_ratings_matrix_normed, user_similarity_matrix_manhattan, movie_id_dict, user_id_dict, threshold=0.5, k=1, top_n=5)\n",
    "print(\"Recommended Movies for User\", user_id, \":\", recommended_movies)"
   ]
  },
  {
   "cell_type": "markdown",
   "metadata": {},
   "source": [
    "`MovieLens dataset:`"
   ]
  },
  {
   "cell_type": "code",
   "execution_count": 30,
   "metadata": {},
   "outputs": [],
   "source": [
    "user_item_matrix2, user_id_dict2, movie_id_dict2, user_ids2, movieIds2 = create_user_item_matrix(df2)\n",
    "user_ratings_matrix_normed2 = computing_neutral_scores(user_item_matrix2)\n",
    "user_similarity_matrix_manhattan2 = calculate_user_similarity_manhattan(user_ratings_matrix_normed2, threshold=0.5) # still explain why treshold on 0.5!!!!!!!"
   ]
  },
  {
   "cell_type": "code",
   "execution_count": 31,
   "metadata": {},
   "outputs": [
    {
     "name": "stdout",
     "output_type": "stream",
     "text": [
      "Recommended Movies for User 144354 : [554, 2029, 3991, 5264, 6517]\n"
     ]
    }
   ],
   "source": [
    "# Example usage:\n",
    "user_id2 = user_ids2[1]  # Specify the target user ID\n",
    "recommended_movies2 = recommend_movies_classification(user_id2, user_ratings_matrix_normed2, user_similarity_matrix_manhattan2, movie_id_dict2, user_id_dict2, threshold=0.5, k=1, top_n=5)\n",
    "print(\"Recommended Movies for User\", user_id2, \":\", recommended_movies2)"
   ]
  },
  {
   "cell_type": "markdown",
   "metadata": {},
   "source": [
    "Even though the movieIds which are recommended are the same, the predicted rating differs somewhat, already indicating a difference between the two userKNN models.\n",
    "\n",
    "## Baseline performance\n",
    "\n",
    "To assess performance, we are going to assess the comparison between the original user-item interactions and the predicted user-item interactions. In order to do so, we will generate a complete matrix with predicted raitings to compare with the original one. "
   ]
  }
 ],
 "metadata": {
  "kernelspec": {
   "display_name": "master_ddb",
   "language": "python",
   "name": "python3"
  },
  "language_info": {
   "codemirror_mode": {
    "name": "ipython",
    "version": 3
   },
   "file_extension": ".py",
   "mimetype": "text/x-python",
   "name": "python",
   "nbconvert_exporter": "python",
   "pygments_lexer": "ipython3",
   "version": "3.11.8"
  }
 },
 "nbformat": 4,
 "nbformat_minor": 2
}
