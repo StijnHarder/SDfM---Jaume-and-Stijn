{
 "cells": [
  {
   "cell_type": "code",
   "execution_count": 96,
   "metadata": {},
   "outputs": [],
   "source": [
    "import pandas as pd\n",
    "import numpy as np"
   ]
  },
  {
   "cell_type": "code",
   "execution_count": 97,
   "metadata": {},
   "outputs": [],
   "source": [
    "from IPython.core.interactiveshell import InteractiveShell\n",
    "InteractiveShell.ast_node_interactivity = \"all\" # to make jupyter print all outputs, not just the last one\n",
    "from IPython.core.display import HTML # to pretty print pandas df and be able to copy them over (e.g. to ppt slides)"
   ]
  },
  {
   "cell_type": "code",
   "execution_count": 98,
   "metadata": {},
   "outputs": [],
   "source": [
    "netflix_df = pd.read_parquet('cleaned/netflix_parquet')"
   ]
  },
  {
   "cell_type": "code",
   "execution_count": 99,
   "metadata": {},
   "outputs": [],
   "source": [
    "# netflix_df = netflix_df[netflix_df['review_data'].apply(lambda x: len(x) if x is not None else 0) > 500]\n",
    "netflix_df = netflix_df[netflix_df['review_data'].apply(lambda x: 30 <= len(x) <= 350 if x is not None else False)]"
   ]
  },
  {
   "cell_type": "code",
   "execution_count": 100,
   "metadata": {},
   "outputs": [
    {
     "data": {
      "text/html": [
       "<div>\n",
       "<style scoped>\n",
       "    .dataframe tbody tr th:only-of-type {\n",
       "        vertical-align: middle;\n",
       "    }\n",
       "\n",
       "    .dataframe tbody tr th {\n",
       "        vertical-align: top;\n",
       "    }\n",
       "\n",
       "    .dataframe thead th {\n",
       "        text-align: right;\n",
       "    }\n",
       "</style>\n",
       "<table border=\"1\" class=\"dataframe\">\n",
       "  <thead>\n",
       "    <tr style=\"text-align: right;\">\n",
       "      <th></th>\n",
       "      <th>movieId</th>\n",
       "      <th>year</th>\n",
       "      <th>title</th>\n",
       "      <th>review_data</th>\n",
       "      <th>genres</th>\n",
       "    </tr>\n",
       "  </thead>\n",
       "  <tbody>\n",
       "    <tr>\n",
       "      <th>1</th>\n",
       "      <td>2</td>\n",
       "      <td>2004</td>\n",
       "      <td>Isle of Man TT 2004 Review</td>\n",
       "      <td>[{'date': 2005-09-05, 'rating': 4.0, 'userId':...</td>\n",
       "      <td>None</td>\n",
       "    </tr>\n",
       "    <tr>\n",
       "      <th>3</th>\n",
       "      <td>4</td>\n",
       "      <td>1994</td>\n",
       "      <td>Paula Abdul's Get Up &amp; Dance</td>\n",
       "      <td>[{'date': 2005-09-06, 'rating': 3.0, 'userId':...</td>\n",
       "      <td>[Family]</td>\n",
       "    </tr>\n",
       "    <tr>\n",
       "      <th>6</th>\n",
       "      <td>7</td>\n",
       "      <td>1992</td>\n",
       "      <td>8 Man</td>\n",
       "      <td>[{'date': 2001-11-04, 'rating': 2.0, 'userId':...</td>\n",
       "      <td>[Action, Sci-Fi]</td>\n",
       "    </tr>\n",
       "    <tr>\n",
       "      <th>8</th>\n",
       "      <td>9</td>\n",
       "      <td>1991</td>\n",
       "      <td>Class of Nuke 'Em High 2</td>\n",
       "      <td>[{'date': 2004-11-20, 'rating': 2.0, 'userId':...</td>\n",
       "      <td>[Comedy, Horror, Sci-Fi]</td>\n",
       "    </tr>\n",
       "    <tr>\n",
       "      <th>9</th>\n",
       "      <td>10</td>\n",
       "      <td>2001</td>\n",
       "      <td>Fighter</td>\n",
       "      <td>[{'date': 2004-02-09, 'rating': 2.0, 'userId':...</td>\n",
       "      <td>None</td>\n",
       "    </tr>\n",
       "    <tr>\n",
       "      <th>...</th>\n",
       "      <td>...</td>\n",
       "      <td>...</td>\n",
       "      <td>...</td>\n",
       "      <td>...</td>\n",
       "      <td>...</td>\n",
       "    </tr>\n",
       "    <tr>\n",
       "      <th>1953</th>\n",
       "      <td>1954</td>\n",
       "      <td>2000</td>\n",
       "      <td>Deliberate Intent</td>\n",
       "      <td>[{'date': 2003-10-11, 'rating': 3.0, 'userId':...</td>\n",
       "      <td>[Thriller, Drama]</td>\n",
       "    </tr>\n",
       "    <tr>\n",
       "      <th>1956</th>\n",
       "      <td>1957</td>\n",
       "      <td>1977</td>\n",
       "      <td>The Mighty Peking Man</td>\n",
       "      <td>[{'date': 2004-07-21, 'rating': 2.0, 'userId':...</td>\n",
       "      <td>[Action, Adventure, Horror, Sci-Fi]</td>\n",
       "    </tr>\n",
       "    <tr>\n",
       "      <th>1957</th>\n",
       "      <td>1958</td>\n",
       "      <td>2002</td>\n",
       "      <td>WWE: Before They Were Superstars 2</td>\n",
       "      <td>[{'date': 2005-06-16, 'rating': 2.0, 'userId':...</td>\n",
       "      <td>[Documentary, Sport]</td>\n",
       "    </tr>\n",
       "    <tr>\n",
       "      <th>1959</th>\n",
       "      <td>1960</td>\n",
       "      <td>2003</td>\n",
       "      <td>Smack: Vol. 1</td>\n",
       "      <td>[{'date': 2004-09-22, 'rating': 3.0, 'userId':...</td>\n",
       "      <td>None</td>\n",
       "    </tr>\n",
       "    <tr>\n",
       "      <th>1960</th>\n",
       "      <td>1961</td>\n",
       "      <td>1939</td>\n",
       "      <td>Port of Shadows</td>\n",
       "      <td>[{'date': 2005-08-12, 'rating': 3.0, 'userId':...</td>\n",
       "      <td>None</td>\n",
       "    </tr>\n",
       "  </tbody>\n",
       "</table>\n",
       "<p>791 rows × 5 columns</p>\n",
       "</div>"
      ],
      "text/plain": [
       "      movieId  year                               title  \\\n",
       "1           2  2004          Isle of Man TT 2004 Review   \n",
       "3           4  1994        Paula Abdul's Get Up & Dance   \n",
       "6           7  1992                               8 Man   \n",
       "8           9  1991            Class of Nuke 'Em High 2   \n",
       "9          10  2001                             Fighter   \n",
       "...       ...   ...                                 ...   \n",
       "1953     1954  2000                   Deliberate Intent   \n",
       "1956     1957  1977               The Mighty Peking Man   \n",
       "1957     1958  2002  WWE: Before They Were Superstars 2   \n",
       "1959     1960  2003                       Smack: Vol. 1   \n",
       "1960     1961  1939                     Port of Shadows   \n",
       "\n",
       "                                            review_data  \\\n",
       "1     [{'date': 2005-09-05, 'rating': 4.0, 'userId':...   \n",
       "3     [{'date': 2005-09-06, 'rating': 3.0, 'userId':...   \n",
       "6     [{'date': 2001-11-04, 'rating': 2.0, 'userId':...   \n",
       "8     [{'date': 2004-11-20, 'rating': 2.0, 'userId':...   \n",
       "9     [{'date': 2004-02-09, 'rating': 2.0, 'userId':...   \n",
       "...                                                 ...   \n",
       "1953  [{'date': 2003-10-11, 'rating': 3.0, 'userId':...   \n",
       "1956  [{'date': 2004-07-21, 'rating': 2.0, 'userId':...   \n",
       "1957  [{'date': 2005-06-16, 'rating': 2.0, 'userId':...   \n",
       "1959  [{'date': 2004-09-22, 'rating': 3.0, 'userId':...   \n",
       "1960  [{'date': 2005-08-12, 'rating': 3.0, 'userId':...   \n",
       "\n",
       "                                   genres  \n",
       "1                                    None  \n",
       "3                                [Family]  \n",
       "6                        [Action, Sci-Fi]  \n",
       "8                [Comedy, Horror, Sci-Fi]  \n",
       "9                                    None  \n",
       "...                                   ...  \n",
       "1953                    [Thriller, Drama]  \n",
       "1956  [Action, Adventure, Horror, Sci-Fi]  \n",
       "1957                 [Documentary, Sport]  \n",
       "1959                                 None  \n",
       "1960                                 None  \n",
       "\n",
       "[791 rows x 5 columns]"
      ]
     },
     "execution_count": 100,
     "metadata": {},
     "output_type": "execute_result"
    }
   ],
   "source": [
    "netflix_df"
   ]
  },
  {
   "cell_type": "code",
   "execution_count": 101,
   "metadata": {},
   "outputs": [
    {
     "data": {
      "text/html": [
       "<div>\n",
       "<style scoped>\n",
       "    .dataframe tbody tr th:only-of-type {\n",
       "        vertical-align: middle;\n",
       "    }\n",
       "\n",
       "    .dataframe tbody tr th {\n",
       "        vertical-align: top;\n",
       "    }\n",
       "\n",
       "    .dataframe thead th {\n",
       "        text-align: right;\n",
       "    }\n",
       "</style>\n",
       "<table border=\"1\" class=\"dataframe\">\n",
       "  <thead>\n",
       "    <tr style=\"text-align: right;\">\n",
       "      <th></th>\n",
       "      <th>movieId</th>\n",
       "      <th>review_data</th>\n",
       "    </tr>\n",
       "  </thead>\n",
       "  <tbody>\n",
       "    <tr>\n",
       "      <th>648</th>\n",
       "      <td>649</td>\n",
       "      <td>[{'date': 2002-01-09, 'rating': 1.0, 'userId':...</td>\n",
       "    </tr>\n",
       "    <tr>\n",
       "      <th>84</th>\n",
       "      <td>85</td>\n",
       "      <td>[{'date': 2005-07-11, 'rating': 4.0, 'userId':...</td>\n",
       "    </tr>\n",
       "    <tr>\n",
       "      <th>926</th>\n",
       "      <td>927</td>\n",
       "      <td>[{'date': 2005-12-05, 'rating': 3.0, 'userId':...</td>\n",
       "    </tr>\n",
       "    <tr>\n",
       "      <th>734</th>\n",
       "      <td>735</td>\n",
       "      <td>[{'date': 2005-07-06, 'rating': 4.0, 'userId':...</td>\n",
       "    </tr>\n",
       "    <tr>\n",
       "      <th>1336</th>\n",
       "      <td>1337</td>\n",
       "      <td>[{'date': 2005-06-08, 'rating': 3.0, 'userId':...</td>\n",
       "    </tr>\n",
       "    <tr>\n",
       "      <th>1522</th>\n",
       "      <td>1523</td>\n",
       "      <td>[{'date': 2005-05-17, 'rating': 5.0, 'userId':...</td>\n",
       "    </tr>\n",
       "    <tr>\n",
       "      <th>967</th>\n",
       "      <td>968</td>\n",
       "      <td>[{'date': 2004-11-08, 'rating': 5.0, 'userId':...</td>\n",
       "    </tr>\n",
       "    <tr>\n",
       "      <th>978</th>\n",
       "      <td>979</td>\n",
       "      <td>[{'date': 2005-08-27, 'rating': 5.0, 'userId':...</td>\n",
       "    </tr>\n",
       "    <tr>\n",
       "      <th>1252</th>\n",
       "      <td>1253</td>\n",
       "      <td>[{'date': 2005-09-17, 'rating': 1.0, 'userId':...</td>\n",
       "    </tr>\n",
       "    <tr>\n",
       "      <th>1725</th>\n",
       "      <td>1726</td>\n",
       "      <td>[{'date': 2005-12-16, 'rating': 4.0, 'userId':...</td>\n",
       "    </tr>\n",
       "  </tbody>\n",
       "</table>\n",
       "</div>"
      ],
      "text/plain": [
       "      movieId                                        review_data\n",
       "648       649  [{'date': 2002-01-09, 'rating': 1.0, 'userId':...\n",
       "84         85  [{'date': 2005-07-11, 'rating': 4.0, 'userId':...\n",
       "926       927  [{'date': 2005-12-05, 'rating': 3.0, 'userId':...\n",
       "734       735  [{'date': 2005-07-06, 'rating': 4.0, 'userId':...\n",
       "1336     1337  [{'date': 2005-06-08, 'rating': 3.0, 'userId':...\n",
       "1522     1523  [{'date': 2005-05-17, 'rating': 5.0, 'userId':...\n",
       "967       968  [{'date': 2004-11-08, 'rating': 5.0, 'userId':...\n",
       "978       979  [{'date': 2005-08-27, 'rating': 5.0, 'userId':...\n",
       "1252     1253  [{'date': 2005-09-17, 'rating': 1.0, 'userId':...\n",
       "1725     1726  [{'date': 2005-12-16, 'rating': 4.0, 'userId':..."
      ]
     },
     "execution_count": 101,
     "metadata": {},
     "output_type": "execute_result"
    }
   ],
   "source": [
    "df = (netflix_df.sample(n=10,random_state=42))[['user_ratings_matrix_normedmovieId','review_data']]\n",
    "df"
   ]
  },
  {
   "cell_type": "code",
   "execution_count": 102,
   "metadata": {},
   "outputs": [
    {
     "data": {
      "text/plain": [
       "1932"
      ]
     },
     "execution_count": 102,
     "metadata": {},
     "output_type": "execute_result"
    },
    {
     "data": {
      "text/plain": [
       "10"
      ]
     },
     "execution_count": 102,
     "metadata": {},
     "output_type": "execute_result"
    }
   ],
   "source": [
    "review_data = df['review_data'].values\n",
    "user_ids = np.concatenate([np.array([entry['userId'] for entry in row]) for row in review_data])\n",
    "ratings = np.concatenate([np.array([entry['rating'] for entry in row]) for row in review_data])\n",
    "movieIds = np.concatenate([[movieId] * len(row) for movieId, row in zip(df['movieId'], review_data)])\n",
    "len(user_ids)\n",
    "len(np.unique(movieIds))"
   ]
  },
  {
   "cell_type": "markdown",
   "metadata": {},
   "source": [
    "### Set-up user-item matrix"
   ]
  },
  {
   "cell_type": "code",
   "execution_count": 103,
   "metadata": {},
   "outputs": [],
   "source": [
    "def create_user_item_matrix(train_test_val_set):\n",
    "    \"\"\"\n",
    "    Creates a user-item matrix from the provided dataset containing review data.\n",
    "\n",
    "    Parameters:\n",
    "    train_test_val_set (DataFrame): DataFrame containing review data with columns 'review_data',\n",
    "                                    which is a list of dictionaries with keys 'userId', 'rating',\n",
    "                                    and 'movieId'.\n",
    "\n",
    "    Returns:\n",
    "    user_item_matrix (numpy.ndarray): Matrix representing users' ratings for items (movies), the matrix is an NumPy array which contains lists of user-item interactions, meaning a user and their corresponding ratings to the movieIds.    \n",
    "    \n",
    "    user_id_dict (dict): Dictionary mapping user IDs to unique indices in the user-item matrix.\n",
    "    \n",
    "    movie_id_dict (dict): Dictionary mapping movie IDs to unique indices in the user-item matrix.\n",
    "    \n",
    "    user_ids (numpy.ndarray): Array containing user IDs corresponding to each rating in the matrix.\n",
    "    \n",
    "    movie_ids (numpy.ndarray): Array containing movie IDs corresponding to each rating in the matrix.\n",
    "\n",
    "    \"\"\"\n",
    "    review_data = train_test_val_set['review_data'].values\n",
    "    user_ids = np.concatenate([np.array([entry['userId'] for entry in row]) for row in review_data])\n",
    "    ratings = np.concatenate([np.array([entry['rating'] for entry in row]) for row in review_data])\n",
    "    movieIds = np.concatenate([[movieId] * len(row) for movieId, row in zip(train_test_val_set['movieId'], review_data)])\n",
    "\n",
    "    # create dictionaries to map user IDs and movie IDs to unique indices to map over\n",
    "    user_id_dict = {user_id: index for index, user_id in enumerate(np.unique(user_ids))}\n",
    "    movie_id_dict = {movie_id: index for index, movie_id in enumerate(np.unique(movieIds))}\n",
    "\n",
    "    # initialize an empty user-item matrix\n",
    "    user_count = len(user_id_dict)\n",
    "    movie_count = len(movie_id_dict)\n",
    "    user_item_matrix = np.full((user_count, movie_count), np.nan)\n",
    "\n",
    "    # populate the user-item matrix with ratings from the dataset\n",
    "    for i, (user_id, movie_id, rating) in enumerate(zip(user_ids, movieIds, ratings)):\n",
    "        user_index = user_id_dict[user_id]\n",
    "        movie_index = movie_id_dict[movie_id]\n",
    "        user_item_matrix[user_index, movie_index] = rating\n",
    "\n",
    "    return user_item_matrix, user_id_dict, movie_id_dict, user_ids, movieIds"
   ]
  },
  {
   "cell_type": "code",
   "execution_count": 104,
   "metadata": {},
   "outputs": [
    {
     "data": {
      "text/plain": [
       "(1788, 10)"
      ]
     },
     "execution_count": 104,
     "metadata": {},
     "output_type": "execute_result"
    },
    {
     "data": {
      "text/plain": [
       "array([ 1.,  2.,  3.,  4.,  5., nan])"
      ]
     },
     "execution_count": 104,
     "metadata": {},
     "output_type": "execute_result"
    },
    {
     "name": "stdout",
     "output_type": "stream",
     "text": [
      "Value: 1.0, Count: 209\n",
      "Value: 2.0, Count: 202\n",
      "Value: 3.0, Count: 549\n",
      "Value: 4.0, Count: 545\n",
      "Value: 5.0, Count: 427\n",
      "Value: nan, Count: 15948\n"
     ]
    }
   ],
   "source": [
    "user_item_matrix, user_id_dict, movie_id_dict, user_ids, movieIds = create_user_item_matrix(df)\n",
    "user_item_matrix.shape\n",
    "np.unique(user_item_matrix)\n",
    "\n",
    "# Get unique values and their counts\n",
    "unique_values, value_counts = np.unique(user_item_matrix, return_counts=True)\n",
    "\n",
    "# Print unique values and their counts\n",
    "for value, count in zip(unique_values, value_counts):\n",
    "    print(f\"Value: {value}, Count: {count}\")"
   ]
  },
  {
   "cell_type": "markdown",
   "metadata": {},
   "source": [
    "We might suggest filling the empty values with 0s, but that can create issues with recommendation engines. \n",
    "\n",
    "If we were to fill this NaN with a 0, we would be incorrectly implying they greatly disliked! We are going to center each user’s ratings around 0 by deducting the row average and then fill in the missing values with 0. This means the missing data is replaced with neutral scores."
   ]
  },
  {
   "cell_type": "code",
   "execution_count": 105,
   "metadata": {},
   "outputs": [],
   "source": [
    "# # Calculate the average rating for each user\n",
    "# avg_ratings = np.nanmean(user_item_matrix, axis=1)\n",
    "\n",
    "# # Center each user's ratings around 0\n",
    "# user_ratings_matrix_centered = user_item_matrix - avg_ratings.reshape(-1, 1)\n",
    "\n",
    "# # Fill in the missing data with 0s\n",
    "# user_ratings_matrix_normed = np.nan_to_num(user_ratings_matrix_centered, nan=0)\n",
    "\n",
    "def computing_neutral_scores(user_item_matrix):\n",
    "    # Calculate the average rating for each user\n",
    "    avg_ratings = np.nanmean(user_item_matrix, axis=1)\n",
    "\n",
    "    # Center each user's ratings around 0\n",
    "    user_ratings_matrix_centered = user_item_matrix - avg_ratings.reshape(-1, 1)\n",
    "\n",
    "    # Fill in the missing data with 0s\n",
    "    user_ratings_matrix_normed = np.nan_to_num(user_ratings_matrix_centered, nan=0)\n",
    "\n",
    "    return user_ratings_matrix_normed\n",
    "\n",
    "user_ratings_matrix_normed = computing_neutral_scores(user_item_matrix)\n"
   ]
  },
  {
   "cell_type": "code",
   "execution_count": 106,
   "metadata": {},
   "outputs": [
    {
     "data": {
      "text/plain": [
       "array([[0., 0., 0., ..., 0., 0., 0.],\n",
       "       [0., 0., 0., ..., 0., 0., 0.],\n",
       "       [0., 0., 0., ..., 0., 0., 0.],\n",
       "       ...,\n",
       "       [0., 0., 0., ..., 0., 0., 0.],\n",
       "       [0., 0., 0., ..., 0., 0., 0.],\n",
       "       [0., 0., 0., ..., 0., 0., 0.]])"
      ]
     },
     "execution_count": 106,
     "metadata": {},
     "output_type": "execute_result"
    },
    {
     "data": {
      "text/plain": [
       "array([-2.66666667, -2.        , -1.66666667, -1.5       , -1.2       ,\n",
       "       -1.        , -0.66666667, -0.66666667, -0.5       , -0.4       ,\n",
       "       -0.33333333, -0.33333333, -0.22222222, -0.2       ,  0.        ,\n",
       "        0.33333333,  0.33333333,  0.5       ,  0.6       ,  0.66666667,\n",
       "        0.66666667,  0.8       ,  1.        ,  1.33333333,  1.5       ,\n",
       "        1.77777778,  2.        ])"
      ]
     },
     "execution_count": 106,
     "metadata": {},
     "output_type": "execute_result"
    },
    {
     "data": {
      "text/plain": [
       "(1788, 10)"
      ]
     },
     "execution_count": 106,
     "metadata": {},
     "output_type": "execute_result"
    },
    {
     "name": "stdout",
     "output_type": "stream",
     "text": [
      "Value: -2.6666666666666665, Count: 1\n",
      "Value: -2.0, Count: 1\n",
      "Value: -1.6666666666666665, Count: 1\n",
      "Value: -1.5, Count: 6\n",
      "Value: -1.2000000000000002, Count: 1\n",
      "Value: -1.0, Count: 16\n",
      "Value: -0.6666666666666667, Count: 1\n",
      "Value: -0.6666666666666665, Count: 2\n",
      "Value: -0.5, Count: 23\n",
      "Value: -0.3999999999999999, Count: 6\n",
      "Value: -0.3333333333333335, Count: 2\n",
      "Value: -0.33333333333333326, Count: 6\n",
      "Value: -0.22222222222222232, Count: 8\n",
      "Value: -0.20000000000000018, Count: 2\n",
      "Value: 0.0, Count: 17741\n",
      "Value: 0.33333333333333326, Count: 2\n",
      "Value: 0.3333333333333335, Count: 1\n",
      "Value: 0.5, Count: 23\n",
      "Value: 0.6000000000000001, Count: 4\n",
      "Value: 0.6666666666666665, Count: 1\n",
      "Value: 0.6666666666666667, Count: 3\n",
      "Value: 0.7999999999999998, Count: 2\n",
      "Value: 1.0, Count: 14\n",
      "Value: 1.3333333333333335, Count: 4\n",
      "Value: 1.5, Count: 6\n",
      "Value: 1.7777777777777777, Count: 1\n",
      "Value: 2.0, Count: 2\n"
     ]
    }
   ],
   "source": [
    "user_ratings_matrix_normed\n",
    "np.unique(user_ratings_matrix_normed)\n",
    "user_ratings_matrix_normed.shape\n",
    "\n",
    "# Get unique values and their counts\n",
    "unique_values_normed, value_counts_normed = np.unique(user_ratings_matrix_normed, return_counts=True)\n",
    "\n",
    "# Print unique values and their counts\n",
    "for value, count in zip(unique_values_normed, value_counts_normed):\n",
    "    print(f\"Value: {value}, Count: {count}\")"
   ]
  },
  {
   "cell_type": "markdown",
   "metadata": {},
   "source": [
    "### Compute similarity:\n",
    "Regularly, cosine similarity is often used to measure the similarity between users based on their preferences or ratings for items (in this case, movies). Cosine similarity ranges from -1 to 1, where:\n",
    "\n",
    "- 1 indicates perfect similarity,\n",
    "- 0 indicates no similarity, and\n",
    "- -1 indicates perfect dissimilarity.\n",
    "\n",
    "### Interpretation:\n",
    "\n",
    "- **Positive Cosine Similarity**: Users are similar in their preferences or ratings for movies.\n",
    "- **Zero Cosine Similarity**: Users have no similarity in their preferences.\n",
    "- **Negative Cosine Similarity**: Users are dissimilar in their preferences, tending towards opposite ratings for movies.\n",
    "\n",
    "### Practical Implication:\n",
    "\n",
    "If one user likes certain types of movies, the other user tends to dislike them, or vice versa. In other words, users with negative cosine similarities have contrasting preferences, making them less suitable for recommending movies to each other.\n",
    "\n",
    "___\n",
    "\n",
    "To see how similar users are we will compute the similarity between them. I will use cosine similarity as distance measure. The manhatten norm will be used to decrease computational weight instead of euclidian norm.\n",
    "\n",
    "### Explanation of calculate_user_similarity_manhattan Function\n",
    "\n",
    "This function calculates the cosine similarity matrix between users based on their ratings using the Manhattan norm.\n",
    "\n",
    "1. **Thresholding**: First, the function applies thresholding to the user ratings matrix. Ratings below the threshold are set to 0, ensuring that only significant ratings are considered.\n",
    "\n",
    "2. **Dot Product Calculation**: It then computes the dot product of each pair of row vectors (users) in the thresholded matrix. This represents the similarity between users based on their common rated items.\n",
    "\n",
    "3. **Norm Calculation**: Next, it calculates the norms (magnitude) of each row vector, considering only values above the threshold. This step prepares for the normalization process.\n",
    "\n",
    "4. **Normalization**: The dot products are divided by the norms of the corresponding row vectors, effectively normalizing the similarity values. This step ensures that users with a large number of ratings are not favored over users with fewer ratings.\n",
    "\n",
    "5. **Setting Diagonal to 0**: Finally, the diagonal elements of the similarity matrix are set to 0 to avoid self-similarity, as a user's rating should not be compared to itself.\n",
    "\n",
    "### Explanation of NumPy Functions\n",
    "\n",
    "- **np.dot**: Computes the dot product of arrays. Here, it calculates the dot product of the thresholded user ratings matrix with its transpose, resulting in the similarity matrix.\n",
    "  \n",
    "- **np.where**: Returns indices where a condition is true. It's used here to apply thresholding to the user ratings matrix.\n",
    "  \n",
    "- **np.sum**: Computes the sum of array elements. It calculates the norms of each row vector after thresholding, which are then used for normalization.\n",
    "  \n",
    "- **np.abs**: Computes the absolute value element-wise. Used to ensure positive values for norms calculation.\n",
    "  \n",
    "- **np.fill_diagonal**: Fills the diagonal of an array with a specified value. It's used to set diagonal elements of the similarity matrix to 0 to avoid self-similarity."
   ]
  },
  {
   "cell_type": "code",
   "execution_count": 107,
   "metadata": {},
   "outputs": [
    {
     "name": "stdout",
     "output_type": "stream",
     "text": [
      "Cosine similarity matrix between users using Manhattan norm (with threshold):\n",
      "[[0. 0. 0. ... 0. 0. 0.]\n",
      " [0. 0. 0. ... 0. 0. 0.]\n",
      " [0. 0. 0. ... 0. 0. 0.]\n",
      " ...\n",
      " [0. 0. 0. ... 0. 0. 0.]\n",
      " [0. 0. 0. ... 0. 0. 0.]\n",
      " [0. 0. 0. ... 0. 0. 0.]]\n"
     ]
    }
   ],
   "source": [
    "def calculate_user_similarity_manhattan(user_ratings_matrix, threshold):\n",
    "    # Calculate dot product of each pair of row vectors, considering only values above the threshold\n",
    "    dot_products = np.dot(np.where(user_ratings_matrix >= threshold, user_ratings_matrix, 0), user_ratings_matrix.T)\n",
    "    \n",
    "    # Calculate norms of each row vector, considering only values above the threshold\n",
    "    norms = np.sum(np.abs(np.where(user_ratings_matrix >= threshold, user_ratings_matrix, 0)), axis=1)\n",
    "    \n",
    "    # Replace zero norms with a small value to avoid division by zero\n",
    "    norms[norms == 0] = 1e-8\n",
    "    \n",
    "    # Calculate similarity matrix using broadcasting\n",
    "    similarity_matrix = dot_products / (norms[:, None] * norms)\n",
    "    \n",
    "    # Set diagonal elements to 0 to avoid self-similarity\n",
    "    np.fill_diagonal(similarity_matrix, 0)\n",
    "    \n",
    "    return similarity_matrix\n",
    "\n",
    "# Example usage:\n",
    "# user_ratings_matrix_normed is your matrix of normalized user-item interactions\n",
    "user_similarity_matrix_manhattan = calculate_user_similarity_manhattan(user_ratings_matrix_normed, threshold=0.5)\n",
    "print(\"Cosine similarity matrix between users using Manhattan norm (with threshold):\")\n",
    "print(user_similarity_matrix_manhattan)"
   ]
  },
  {
   "cell_type": "code",
   "execution_count": 108,
   "metadata": {},
   "outputs": [
    {
     "data": {
      "text/plain": [
       "array([[0., 0., 0., ..., 0., 0., 0.],\n",
       "       [0., 0., 0., ..., 0., 0., 0.],\n",
       "       [0., 0., 0., ..., 0., 0., 0.],\n",
       "       ...,\n",
       "       [0., 0., 0., ..., 0., 0., 0.],\n",
       "       [0., 0., 0., ..., 0., 0., 0.],\n",
       "       [0., 0., 0., ..., 0., 0., 0.]])"
      ]
     },
     "execution_count": 108,
     "metadata": {},
     "output_type": "execute_result"
    },
    {
     "data": {
      "text/plain": [
       "(1788, 1788)"
      ]
     },
     "execution_count": 108,
     "metadata": {},
     "output_type": "execute_result"
    },
    {
     "name": "stdout",
     "output_type": "stream",
     "text": [
      "Value: -66666666.66666667, Count: 2\n",
      "Value: -8333333.333333338, Count: 1\n",
      "Value: -1.25, Count: 1\n",
      "Value: -1.2499999999999998, Count: 2\n",
      "Value: -1.2499999999999996, Count: 1\n",
      "Value: -1.0, Count: 121\n",
      "Value: -0.9999999999999999, Count: 3\n",
      "Value: -0.7500000000000003, Count: 3\n",
      "Value: -0.6249999999999999, Count: 2\n",
      "Value: -0.5000000000000003, Count: 13\n",
      "Value: -0.5, Count: 42\n",
      "Value: -0.4999999999999999, Count: 1\n",
      "Value: -0.49999999999999983, Count: 3\n",
      "Value: -0.33333333333333337, Count: 5\n",
      "Value: -0.3333333333333333, Count: 1\n",
      "Value: -0.25000000000000017, Count: 2\n",
      "Value: -0.25, Count: 12\n",
      "Value: -0.24999999999999994, Count: 1\n",
      "Value: -0.24999999999999992, Count: 2\n",
      "Value: -0.2499999999999999, Count: 1\n",
      "Value: -0.16666666666666663, Count: 29\n",
      "Value: -0.1666666666666666, Count: 41\n",
      "Value: -0.12500000000000014, Count: 3\n",
      "Value: -0.12500000000000008, Count: 1\n",
      "Value: -0.12500000000000006, Count: 24\n",
      "Value: -0.125, Count: 2\n",
      "Value: -0.12499999999999989, Count: 1\n",
      "Value: -0.12499999999999982, Count: 1\n",
      "Value: -0.04166666666666672, Count: 1\n",
      "Value: -0.031250000000000035, Count: 1\n",
      "Value: 0.0, Count: 3196088\n",
      "Value: 3.700743415417188e-17, Count: 1\n",
      "Value: 0.06250000000000003, Count: 1\n",
      "Value: 0.08333333333333337, Count: 1\n",
      "Value: 0.12500000000000006, Count: 1\n",
      "Value: 0.1666666666666667, Count: 1\n",
      "Value: 0.20833333333333334, Count: 1\n",
      "Value: 0.25, Count: 18\n",
      "Value: 0.3333333333333333, Count: 1\n",
      "Value: 0.33333333333333337, Count: 4\n",
      "Value: 0.43749999999999994, Count: 3\n",
      "Value: 0.4375, Count: 1\n",
      "Value: 0.5, Count: 70\n",
      "Value: 1.0, Count: 426\n",
      "Value: 11111111.11111111, Count: 1\n",
      "Value: 33333333.333333325, Count: 3\n"
     ]
    }
   ],
   "source": [
    "user_similarity_matrix_manhattan\n",
    "\n",
    "user_similarity_matrix_manhattan.shape\n",
    "\n",
    "# Get unique values and their counts\n",
    "unique_values_sim, value_counts_sim = np.unique(user_similarity_matrix_manhattan, return_counts=True)\n",
    "\n",
    "# Print unique values and their counts\n",
    "for value, count in zip(unique_values_sim, value_counts_sim):\n",
    "    print(f\"Value: {value}, Count: {count}\")"
   ]
  },
  {
   "cell_type": "markdown",
   "metadata": {},
   "source": [
    "### Perform KNN\n",
    "\n",
    "We will be working with user 1's similarity scores and find their nearest neighbors, meaning the most similar other users. Based on the ratings those neighbors gave a movie, we can infer what rating user 1 would give give it if they saw it.\n",
    "\n",
    "Below you will find how KNN works, before implemting the scikitlearn function:"
   ]
  },
  {
   "cell_type": "code",
   "execution_count": 109,
   "metadata": {},
   "outputs": [],
   "source": [
    "# user_similarity_matrix_manhattan[1, :]"
   ]
  },
  {
   "cell_type": "code",
   "execution_count": 110,
   "metadata": {},
   "outputs": [],
   "source": [
    "# # Isolate the similarity scores for the first user and sort descendingly\n",
    "# user_similarity_scores = user_similarity_matrix_manhattan[1, :]\n",
    "# ordered_similarities_indices = np.argsort(user_similarity_scores)[::-1]  # Sort in descending order\n",
    "# ordered_similarities = user_similarity_scores[ordered_similarities_indices]\n",
    "\n",
    "# # Find the top 10 most similar users (excluding self-similarity)\n",
    "# nearest_neighbors = ordered_similarities_indices[1:11]\n",
    "\n",
    "# # Extract the ratings of the neighbors\n",
    "# neighbor_ratings = user_ratings_matrix_normed[nearest_neighbors]\n",
    "\n",
    "# # Calculate the mean rating given by the users nearest neighbors\n",
    "# mean_rating = np.mean(neighbor_ratings[:, 2])  # Assuming you want the mean rating for item 2\n",
    "# print(mean_rating)"
   ]
  },
  {
   "cell_type": "code",
   "execution_count": 111,
   "metadata": {},
   "outputs": [],
   "source": [
    "# user_similarity_matrix_manhattan"
   ]
  },
  {
   "cell_type": "markdown",
   "metadata": {},
   "source": [
    "## User-Based KNN\n",
    "\n",
    "The top 5 recommendations represent the movies that are most highly rated by users who are most similar to the target user, based on the user-based k-nearest neighbors (KNN) collaborative filtering algorithm.\n",
    "\n",
    "### Recommendations Calculation Process\n",
    "\n",
    "1. **Neighbour selection:** based on the cosine similarity number, the top k similar users are selected. This would be positive cosine similarity scores, as they indicate similarity. \n",
    "2. **Aggregation of Ratings:**:For each movie that the nearest neighbours have rated that the target user has not, the ratings are aggregated.\n",
    "\n",
    "3. **Average Ratings Calculation:** the aggregated ratings are divided by the number of neighbors who rated each movie to calculate the average rating for each movie.\n",
    "\n",
    "4. **Top Recommendations:** Finally, the top 5 movies with the highest average ratings are selected as the recommendations for the target user. These are the movies that are predicted to be most preferred by the target user based on the ratings of their nearest neighbors.\n",
    "\n",
    "### Explanation of NumPy Functions\n",
    "\n",
    "1. **np.argsort**: Returns the indices that would sort an array. Used to find indices of the k most similar users in descending order.\n",
    "  \n",
    "2. **np.where**: Returns indices of elements satisfying a condition. Used to find movies rated by similar users (not NaN).\n",
    "\n",
    "3. **np.sum**: Computes sum of array elements. Used to aggregate ratings and counts for each movie across similar users.\n",
    "\n",
    "4. **np.divide**: Performs element-wise division. Used to calculate average ratings for each movie by dividing aggregated ratings by the number of similar users who rated each movie. Handles division by zero errors.\n",
    "\n",
    "5. **np.argsort (again)**: Finds indices that would sort movies by average ratings in descending order. Used to select top 5 recommendations."
   ]
  },
  {
   "cell_type": "code",
   "execution_count": 112,
   "metadata": {},
   "outputs": [
    {
     "name": "stdout",
     "output_type": "stream",
     "text": [
      "Recommended movies for user 2012897\n",
      "[(979, 4.0), (1726, 0.0), (1523, 0.0), (1337, 0.0), (1253, 0.0)]\n"
     ]
    }
   ],
   "source": [
    "def generate_user_knn_recommendations(user_id, user_item_matrix, user_similarity_matrix, user_id_dict, movie_id_dict, k):\n",
    "    \"\"\"\n",
    "    Generates movie recommendations for a given user using user-based k-nearest neighbors (KNN) collaborative filtering.\n",
    "\n",
    "    Parameters:\n",
    "    user_id (int): ID of the user for whom recommendations are to be generated.\n",
    "    user_item_matrix (numpy.ndarray): Matrix representing users' ratings for items (movies).\n",
    "    user_similarity_matrix (numpy.ndarray): Matrix representing cosine similarity between users.\n",
    "    user_id_dict (dict): Dictionary mapping user IDs to unique indices in the user-item matrix.\n",
    "    movie_id_dict (dict): Dictionary mapping movie IDs to unique indices in the user-item matrix.\n",
    "    k (int): Number of nearest neighbors to consider for recommendations.\n",
    "\n",
    "    Returns:\n",
    "    recommendations (list): List of tuples containing recommended movie IDs and their predicted or expected ratings for the given user.\n",
    "    \"\"\"\n",
    "    # Ensure user ID exists in the dictionary\n",
    "    if user_id not in user_id_dict:\n",
    "        print(f\"User with ID {user_id} not found.\")\n",
    "        return []\n",
    "\n",
    "    # Find the index of the user in the user-item matrix\n",
    "    user_index = user_id_dict[user_id]\n",
    "\n",
    "    # Get similarity scores of the user with other users and sort indices\n",
    "    similar_users_indices = np.argsort(user_similarity_matrix[user_index])[::-1][:k]\n",
    "\n",
    "    # Find movies rated by similar users\n",
    "    rated_movies = np.where(~np.isnan(user_item_matrix[similar_users_indices]))[1]\n",
    "\n",
    "    # Calculate average ratings for each movie\n",
    "    movie_ratings = np.zeros_like(user_item_matrix[0])\n",
    "    movie_counts = np.zeros_like(user_item_matrix[0], dtype=int)\n",
    "    \n",
    "    # Aggregate ratings and counts for each movie\n",
    "    for movie in rated_movies:\n",
    "        movie_ratings[movie] += np.sum(user_item_matrix[similar_users_indices, movie])\n",
    "        movie_counts[movie] += np.sum(~np.isnan(user_item_matrix[similar_users_indices, movie]))\n",
    "    \n",
    "    # Calculate average ratings\n",
    "    average_ratings = np.divide(movie_ratings, movie_counts, out=np.zeros_like(movie_ratings), where=movie_counts!=0)\n",
    "\n",
    "    # Sort movies by average ratings in descending order\n",
    "    sorted_indices = np.argsort(average_ratings)[::-1]\n",
    "\n",
    "    # Convert movie indices back to movie IDs and return top 5 recommendations\n",
    "    top_recommendations = [(list(movie_id_dict.keys())[list(movie_id_dict.values()).index(movie_index)], average_ratings[movie_index])\n",
    "                           for movie_index in sorted_indices[:5]]\n",
    "    return top_recommendations\n",
    "\n",
    "\n",
    "# use the above function for a included user ID in the user-item matrix\n",
    "user_id = user_ids[1]  # Example user ID\n",
    "user_knn_recommendations = generate_user_knn_recommendations(user_id, user_item_matrix, user_similarity_matrix_manhattan, user_id_dict, movie_id_dict, k=1)\n",
    "print(\"Recommended movies for user\", user_id)\n",
    "print(user_knn_recommendations)"
   ]
  },
  {
   "cell_type": "markdown",
   "metadata": {},
   "source": [
    "Attempt sparse"
   ]
  },
  {
   "cell_type": "code",
   "execution_count": 113,
   "metadata": {},
   "outputs": [],
   "source": [
    "# from scipy.sparse import csr_matrix\n",
    "\n",
    "# # Assuming user_ratings_matrix_normed is your numpy matrix\n",
    "# user_ratings_matrix_normed_sparse = csr_matrix(user_ratings_matrix_normed)"
   ]
  },
  {
   "cell_type": "code",
   "execution_count": 114,
   "metadata": {},
   "outputs": [],
   "source": [
    "# def calculate_user_similarity_manhattan_sparse(user_ratings_matrix, threshold=0):\n",
    "#     # Apply threshold to the sparse matrix\n",
    "#     user_ratings_matrix = csr_matrix(user_ratings_matrix)  # Ensure matrix is in CSR format\n",
    "#     user_ratings_matrix.data[user_ratings_matrix.data < threshold] = 0\n",
    "    \n",
    "#     # Calculate dot product of each pair of row vectors\n",
    "#     dot_products = user_ratings_matrix.dot(user_ratings_matrix.T)\n",
    "    \n",
    "#     # Calculate norms of each row vector\n",
    "#     norms = user_ratings_matrix.sum(axis=1).A1  # Sum along rows and convert to 1-D array\n",
    "    \n",
    "#     # Replace zero norms with a small value to avoid division by zero\n",
    "#     norms[norms == 0] = 1e-8\n",
    "    \n",
    "#     # Calculate similarity matrix using broadcasting\n",
    "#     outer_norms = norms[:, None]  # Convert norms to a column vector for broadcasting\n",
    "#     similarity_matrix = dot_products / (outer_norms * outer_norms.T)\n",
    "    \n",
    "#     # Set diagonal elements to 0 to avoid self-similarity\n",
    "#     similarity_matrix.setdiag(0)\n",
    "    \n",
    "#     return similarity_matrix"
   ]
  },
  {
   "cell_type": "code",
   "execution_count": 115,
   "metadata": {},
   "outputs": [],
   "source": [
    "# # Example usage:\n",
    "# user_similarity_matrix_manhattan_sparse = calculate_user_similarity_manhattan_sparse(user_ratings_matrix_normed, threshold=4)\n",
    "# print(\"Cosine similarity matrix between users using Manhattan norm for sparse matrices (with threshold):\")\n",
    "# print(user_similarity_matrix_manhattan_sparse)"
   ]
  }
 ],
 "metadata": {
  "kernelspec": {
   "display_name": "master_ddb",
   "language": "python",
   "name": "python3"
  },
  "language_info": {
   "codemirror_mode": {
    "name": "ipython",
    "version": 3
   },
   "file_extension": ".py",
   "mimetype": "text/x-python",
   "name": "python",
   "nbconvert_exporter": "python",
   "pygments_lexer": "ipython3",
   "version": "3.11.8"
  }
 },
 "nbformat": 4,
 "nbformat_minor": 2
}
