{
 "cells": [
  {
   "cell_type": "code",
   "execution_count": 55,
   "metadata": {},
   "outputs": [],
   "source": [
    "import numpy as np\n",
    "import pandas as pd"
   ]
  },
  {
   "cell_type": "code",
   "execution_count": 56,
   "metadata": {},
   "outputs": [],
   "source": [
    "from IPython.core.interactiveshell import InteractiveShell\n",
    "InteractiveShell.ast_node_interactivity = \"all\" # to make jupyter print all outputs, not just the last one\n",
    "from IPython.core.display import HTML # to pretty print pandas df and be able to copy them over (e.g. to ppt slides)"
   ]
  },
  {
   "cell_type": "code",
   "execution_count": 57,
   "metadata": {},
   "outputs": [],
   "source": [
    "df = pd.read_json('cleaned/netflix_movielens_cleaned.json')"
   ]
  },
  {
   "cell_type": "markdown",
   "metadata": {},
   "source": [
    "### Feature engineering:\n",
    "\n",
    "A user-item matrix will be created."
   ]
  },
  {
   "cell_type": "code",
   "execution_count": 58,
   "metadata": {},
   "outputs": [
    {
     "name": "stdout",
     "output_type": "stream",
     "text": [
      "       movieId                                        review_data\n",
      "0            1  {'0': {'userId': '1488844', 'rating': 3.0, 'da...\n",
      "1            2  {'0': {'userId': '2059652', 'rating': 4.0, 'da...\n",
      "2            3  {'0': {'userId': '1025579', 'rating': 4.0, 'da...\n",
      "3            4  {'0': {'userId': '1065039', 'rating': 3.0, 'da...\n",
      "4            5  {'0': {'userId': '1745265', 'rating': 5.0, 'da...\n",
      "...        ...                                                ...\n",
      "10214   193581  {'0': {'userId': 184, 'rating': 4.0, 'date': 1...\n",
      "10215   193583  {'0': {'userId': 184, 'rating': 3.5, 'date': 1...\n",
      "10216   193585  {'0': {'userId': 184, 'rating': 3.5, 'date': 1...\n",
      "10217   193587  {'0': {'userId': 184, 'rating': 3.5, 'date': 1...\n",
      "10218   193609  {'0': {'userId': 331, 'rating': 4.0, 'date': 1...\n",
      "\n",
      "[10219 rows x 2 columns]\n"
     ]
    }
   ],
   "source": [
    "matrix_df = df.drop(['tmdbId','imdbId','genres','year','title'],axis=1)\n",
    "print(matrix_df)"
   ]
  },
  {
   "cell_type": "markdown",
   "metadata": {},
   "source": [
    "#### Let's work with movies and reviews first, add other features later:\n",
    "\n",
    "Only first two keys of dictionary will be kept to accomplish this."
   ]
  },
  {
   "cell_type": "code",
   "execution_count": 59,
   "metadata": {},
   "outputs": [],
   "source": [
    "matrix_df['review_data'] = matrix_df['review_data'].apply(lambda x: None if x is None else [{'userId': review['userId'], 'rating': review['rating']} for review in x.values()])"
   ]
  },
  {
   "cell_type": "code",
   "execution_count": 60,
   "metadata": {},
   "outputs": [
    {
     "data": {
      "text/html": [
       "<div>\n",
       "<style scoped>\n",
       "    .dataframe tbody tr th:only-of-type {\n",
       "        vertical-align: middle;\n",
       "    }\n",
       "\n",
       "    .dataframe tbody tr th {\n",
       "        vertical-align: top;\n",
       "    }\n",
       "\n",
       "    .dataframe thead th {\n",
       "        text-align: right;\n",
       "    }\n",
       "</style>\n",
       "<table border=\"1\" class=\"dataframe\">\n",
       "  <thead>\n",
       "    <tr style=\"text-align: right;\">\n",
       "      <th></th>\n",
       "      <th>movieId</th>\n",
       "      <th>review_data</th>\n",
       "    </tr>\n",
       "  </thead>\n",
       "  <tbody>\n",
       "    <tr>\n",
       "      <th>0</th>\n",
       "      <td>1</td>\n",
       "      <td>[{'userId': '1488844', 'rating': 3.0}, {'userI...</td>\n",
       "    </tr>\n",
       "    <tr>\n",
       "      <th>1</th>\n",
       "      <td>2</td>\n",
       "      <td>[{'userId': '2059652', 'rating': 4.0}, {'userI...</td>\n",
       "    </tr>\n",
       "    <tr>\n",
       "      <th>2</th>\n",
       "      <td>3</td>\n",
       "      <td>[{'userId': '1025579', 'rating': 4.0}, {'userI...</td>\n",
       "    </tr>\n",
       "    <tr>\n",
       "      <th>3</th>\n",
       "      <td>4</td>\n",
       "      <td>[{'userId': '1065039', 'rating': 3.0}, {'userI...</td>\n",
       "    </tr>\n",
       "    <tr>\n",
       "      <th>4</th>\n",
       "      <td>5</td>\n",
       "      <td>[{'userId': '1745265', 'rating': 5.0}, {'userI...</td>\n",
       "    </tr>\n",
       "    <tr>\n",
       "      <th>...</th>\n",
       "      <td>...</td>\n",
       "      <td>...</td>\n",
       "    </tr>\n",
       "    <tr>\n",
       "      <th>10214</th>\n",
       "      <td>193581</td>\n",
       "      <td>[{'userId': 184, 'rating': 4.0}]</td>\n",
       "    </tr>\n",
       "    <tr>\n",
       "      <th>10215</th>\n",
       "      <td>193583</td>\n",
       "      <td>[{'userId': 184, 'rating': 3.5}]</td>\n",
       "    </tr>\n",
       "    <tr>\n",
       "      <th>10216</th>\n",
       "      <td>193585</td>\n",
       "      <td>[{'userId': 184, 'rating': 3.5}]</td>\n",
       "    </tr>\n",
       "    <tr>\n",
       "      <th>10217</th>\n",
       "      <td>193587</td>\n",
       "      <td>[{'userId': 184, 'rating': 3.5}]</td>\n",
       "    </tr>\n",
       "    <tr>\n",
       "      <th>10218</th>\n",
       "      <td>193609</td>\n",
       "      <td>[{'userId': 331, 'rating': 4.0}]</td>\n",
       "    </tr>\n",
       "  </tbody>\n",
       "</table>\n",
       "<p>10219 rows × 2 columns</p>\n",
       "</div>"
      ],
      "text/plain": [
       "       movieId                                        review_data\n",
       "0            1  [{'userId': '1488844', 'rating': 3.0}, {'userI...\n",
       "1            2  [{'userId': '2059652', 'rating': 4.0}, {'userI...\n",
       "2            3  [{'userId': '1025579', 'rating': 4.0}, {'userI...\n",
       "3            4  [{'userId': '1065039', 'rating': 3.0}, {'userI...\n",
       "4            5  [{'userId': '1745265', 'rating': 5.0}, {'userI...\n",
       "...        ...                                                ...\n",
       "10214   193581                   [{'userId': 184, 'rating': 4.0}]\n",
       "10215   193583                   [{'userId': 184, 'rating': 3.5}]\n",
       "10216   193585                   [{'userId': 184, 'rating': 3.5}]\n",
       "10217   193587                   [{'userId': 184, 'rating': 3.5}]\n",
       "10218   193609                   [{'userId': 331, 'rating': 4.0}]\n",
       "\n",
       "[10219 rows x 2 columns]"
      ]
     },
     "execution_count": 60,
     "metadata": {},
     "output_type": "execute_result"
    }
   ],
   "source": [
    "matrix_df"
   ]
  },
  {
   "cell_type": "markdown",
   "metadata": {},
   "source": [
    "First we need to find unique user and item(movie)ids:"
   ]
  },
  {
   "cell_type": "code",
   "execution_count": 64,
   "metadata": {},
   "outputs": [],
   "source": [
    "# set is used, because it does not allow for duplicates\n",
    "user_ids = set()  \n",
    "\n",
    "# iterate over each row\n",
    "for index, row in df.iterrows():\n",
    "    # iterate over each dictionary in the 'review_data' column of the current row\n",
    "    for key, value in row['review_data'].items():\n",
    "        user_id = value['userId']\n",
    "        user_ids.add(user_id)  # Add user ID to the set\n",
    "\n",
    "user_ids = list(user_ids)"
   ]
  },
  {
   "cell_type": "code",
   "execution_count": 65,
   "metadata": {},
   "outputs": [],
   "source": [
    "# put movieids in set so duplicates are not allowed for here either\n",
    "item_ids = list(set(matrix_df['movieId'].unique()))"
   ]
  },
  {
   "cell_type": "markdown",
   "metadata": {},
   "source": [
    "We will initialize the matrix now:"
   ]
  },
  {
   "cell_type": "code",
   "execution_count": 66,
   "metadata": {},
   "outputs": [
    {
     "ename": "MemoryError",
     "evalue": "Unable to allocate 31.8 GiB for an array with shape (10219, 418140) and data type float64",
     "output_type": "error",
     "traceback": [
      "\u001b[1;31m---------------------------------------------------------------------------\u001b[0m",
      "\u001b[1;31mMemoryError\u001b[0m                               Traceback (most recent call last)",
      "Cell \u001b[1;32mIn[66], line 3\u001b[0m\n\u001b[0;32m      1\u001b[0m num_users \u001b[38;5;241m=\u001b[39m \u001b[38;5;28mlen\u001b[39m(user_ids)\n\u001b[0;32m      2\u001b[0m num_items \u001b[38;5;241m=\u001b[39m \u001b[38;5;28mlen\u001b[39m(item_ids)\n\u001b[1;32m----> 3\u001b[0m user_item_matrix \u001b[38;5;241m=\u001b[39m \u001b[43mnp\u001b[49m\u001b[38;5;241;43m.\u001b[39;49m\u001b[43mzeros\u001b[49m\u001b[43m(\u001b[49m\u001b[43m(\u001b[49m\u001b[43mnum_items\u001b[49m\u001b[43m,\u001b[49m\u001b[43m \u001b[49m\u001b[43mnum_users\u001b[49m\u001b[43m)\u001b[49m\u001b[43m)\u001b[49m\n",
      "\u001b[1;31mMemoryError\u001b[0m: Unable to allocate 31.8 GiB for an array with shape (10219, 418140) and data type float64"
     ]
    }
   ],
   "source": [
    "num_users = len(user_ids)\n",
    "num_items = len(item_ids)\n",
    "user_item_matrix = np.zeros((num_items, num_users))"
   ]
  },
  {
   "cell_type": "markdown",
   "metadata": {},
   "source": [
    "Now we will populate the matrix with the matrix_df values:"
   ]
  },
  {
   "cell_type": "code",
   "execution_count": null,
   "metadata": {},
   "outputs": [
    {
     "ename": "AttributeError",
     "evalue": "'set' object has no attribute 'index'",
     "output_type": "error",
     "traceback": [
      "\u001b[1;31m---------------------------------------------------------------------------\u001b[0m",
      "\u001b[1;31mAttributeError\u001b[0m                            Traceback (most recent call last)",
      "Cell \u001b[1;32mIn[53], line 4\u001b[0m\n\u001b[0;32m      2\u001b[0m \u001b[38;5;28;01mfor\u001b[39;00m i, reviews \u001b[38;5;129;01min\u001b[39;00m \u001b[38;5;28menumerate\u001b[39m(matrix_df[\u001b[38;5;124m'\u001b[39m\u001b[38;5;124mreview_data\u001b[39m\u001b[38;5;124m'\u001b[39m]):\n\u001b[0;32m      3\u001b[0m     \u001b[38;5;28;01mfor\u001b[39;00m review \u001b[38;5;129;01min\u001b[39;00m reviews:\n\u001b[1;32m----> 4\u001b[0m         user_idx \u001b[38;5;241m=\u001b[39m \u001b[43muser_ids\u001b[49m\u001b[38;5;241;43m.\u001b[39;49m\u001b[43mindex\u001b[49m(review[\u001b[38;5;124m'\u001b[39m\u001b[38;5;124muserId\u001b[39m\u001b[38;5;124m'\u001b[39m])\n\u001b[0;32m      5\u001b[0m         user_item_matrix[i, user_idx] \u001b[38;5;241m=\u001b[39m review[\u001b[38;5;124m'\u001b[39m\u001b[38;5;124mrating\u001b[39m\u001b[38;5;124m'\u001b[39m]\n",
      "\u001b[1;31mAttributeError\u001b[0m: 'set' object has no attribute 'index'"
     ]
    }
   ],
   "source": [
    "# this for loop looks into each values of both keys in the dictionary in the review_data column\n",
    "for i, reviews in enumerate(matrix_df['review_data']):\n",
    "    for review in reviews:\n",
    "        user_idx = user_ids.index(review['userId'])\n",
    "        user_item_matrix[i, user_idx] = review['rating']"
   ]
  }
 ],
 "metadata": {
  "kernelspec": {
   "display_name": "master_ddb",
   "language": "python",
   "name": "python3"
  },
  "language_info": {
   "codemirror_mode": {
    "name": "ipython",
    "version": 3
   },
   "file_extension": ".py",
   "mimetype": "text/x-python",
   "name": "python",
   "nbconvert_exporter": "python",
   "pygments_lexer": "ipython3",
   "version": "3.10.11"
  }
 },
 "nbformat": 4,
 "nbformat_minor": 2
}
