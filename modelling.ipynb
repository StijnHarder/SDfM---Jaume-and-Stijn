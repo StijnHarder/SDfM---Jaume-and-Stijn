{
 "cells": [
  {
   "cell_type": "code",
   "execution_count": 26,
   "metadata": {},
   "outputs": [],
   "source": [
    "import numpy as np\n",
    "import pandas as pd"
   ]
  },
  {
   "cell_type": "code",
   "execution_count": 27,
   "metadata": {},
   "outputs": [],
   "source": [
    "from IPython.core.interactiveshell import InteractiveShell\n",
    "InteractiveShell.ast_node_interactivity = \"all\" # to make jupyter print all outputs, not just the last one\n",
    "from IPython.core.display import HTML # to pretty print pandas df and be able to copy them over (e.g. to ppt slides)"
   ]
  },
  {
   "cell_type": "code",
   "execution_count": 28,
   "metadata": {},
   "outputs": [],
   "source": [
    "matrix_df = pd.read_parquet('cleaned/netflix_parquet')"
   ]
  },
  {
   "cell_type": "code",
   "execution_count": 29,
   "metadata": {},
   "outputs": [
    {
     "data": {
      "text/html": [
       "<div>\n",
       "<style scoped>\n",
       "    .dataframe tbody tr th:only-of-type {\n",
       "        vertical-align: middle;\n",
       "    }\n",
       "\n",
       "    .dataframe tbody tr th {\n",
       "        vertical-align: top;\n",
       "    }\n",
       "\n",
       "    .dataframe thead th {\n",
       "        text-align: right;\n",
       "    }\n",
       "</style>\n",
       "<table border=\"1\" class=\"dataframe\">\n",
       "  <thead>\n",
       "    <tr style=\"text-align: right;\">\n",
       "      <th></th>\n",
       "      <th>movieId</th>\n",
       "      <th>year</th>\n",
       "      <th>title</th>\n",
       "      <th>review_data</th>\n",
       "    </tr>\n",
       "  </thead>\n",
       "  <tbody>\n",
       "    <tr>\n",
       "      <th>0</th>\n",
       "      <td>1</td>\n",
       "      <td>2003</td>\n",
       "      <td>Dinosaur Planet</td>\n",
       "      <td>[{'date': 2005-09-06, 'rating': 3.0, 'userId':...</td>\n",
       "    </tr>\n",
       "    <tr>\n",
       "      <th>1</th>\n",
       "      <td>2</td>\n",
       "      <td>2004</td>\n",
       "      <td>Isle of Man TT 2004 Review</td>\n",
       "      <td>[{'date': 2005-09-05, 'rating': 4.0, 'userId':...</td>\n",
       "    </tr>\n",
       "    <tr>\n",
       "      <th>2</th>\n",
       "      <td>3</td>\n",
       "      <td>1997</td>\n",
       "      <td>Character</td>\n",
       "      <td>[{'date': 2003-03-29, 'rating': 4.0, 'userId':...</td>\n",
       "    </tr>\n",
       "    <tr>\n",
       "      <th>3</th>\n",
       "      <td>4</td>\n",
       "      <td>1994</td>\n",
       "      <td>Paula Abdul's Get Up &amp; Dance</td>\n",
       "      <td>[{'date': 2005-09-06, 'rating': 3.0, 'userId':...</td>\n",
       "    </tr>\n",
       "    <tr>\n",
       "      <th>4</th>\n",
       "      <td>5</td>\n",
       "      <td>2004</td>\n",
       "      <td>The Rise and Fall of ECW</td>\n",
       "      <td>[{'date': 2005-02-08, 'rating': 5.0, 'userId':...</td>\n",
       "    </tr>\n",
       "    <tr>\n",
       "      <th>...</th>\n",
       "      <td>...</td>\n",
       "      <td>...</td>\n",
       "      <td>...</td>\n",
       "      <td>...</td>\n",
       "    </tr>\n",
       "    <tr>\n",
       "      <th>768</th>\n",
       "      <td>13508</td>\n",
       "      <td>1999</td>\n",
       "      <td>The League of Gentlemen: Series 1</td>\n",
       "      <td>[{'date': 2003-12-18, 'rating': 2.0, 'userId':...</td>\n",
       "    </tr>\n",
       "    <tr>\n",
       "      <th>769</th>\n",
       "      <td>13509</td>\n",
       "      <td>1998</td>\n",
       "      <td>Little City</td>\n",
       "      <td>[{'date': 2003-05-29, 'rating': 3.0, 'userId':...</td>\n",
       "    </tr>\n",
       "    <tr>\n",
       "      <th>770</th>\n",
       "      <td>13510</td>\n",
       "      <td>1959</td>\n",
       "      <td>Last Train from Gun Hill</td>\n",
       "      <td>[{'date': 2005-09-02, 'rating': 3.0, 'userId':...</td>\n",
       "    </tr>\n",
       "    <tr>\n",
       "      <th>771</th>\n",
       "      <td>13511</td>\n",
       "      <td>1993</td>\n",
       "      <td>Much Ado About Nothing</td>\n",
       "      <td>[{'date': 2000-10-01, 'rating': 4.0, 'userId':...</td>\n",
       "    </tr>\n",
       "    <tr>\n",
       "      <th>772</th>\n",
       "      <td>13512</td>\n",
       "      <td>1963</td>\n",
       "      <td>The Pink Panther</td>\n",
       "      <td>[{'date': 2001-04-26, 'rating': 4.0, 'userId':...</td>\n",
       "    </tr>\n",
       "  </tbody>\n",
       "</table>\n",
       "<p>773 rows × 4 columns</p>\n",
       "</div>"
      ],
      "text/plain": [
       "     movieId  year                              title  \\\n",
       "0          1  2003                    Dinosaur Planet   \n",
       "1          2  2004         Isle of Man TT 2004 Review   \n",
       "2          3  1997                          Character   \n",
       "3          4  1994       Paula Abdul's Get Up & Dance   \n",
       "4          5  2004           The Rise and Fall of ECW   \n",
       "..       ...   ...                                ...   \n",
       "768    13508  1999  The League of Gentlemen: Series 1   \n",
       "769    13509  1998                        Little City   \n",
       "770    13510  1959           Last Train from Gun Hill   \n",
       "771    13511  1993             Much Ado About Nothing   \n",
       "772    13512  1963                   The Pink Panther   \n",
       "\n",
       "                                           review_data  \n",
       "0    [{'date': 2005-09-06, 'rating': 3.0, 'userId':...  \n",
       "1    [{'date': 2005-09-05, 'rating': 4.0, 'userId':...  \n",
       "2    [{'date': 2003-03-29, 'rating': 4.0, 'userId':...  \n",
       "3    [{'date': 2005-09-06, 'rating': 3.0, 'userId':...  \n",
       "4    [{'date': 2005-02-08, 'rating': 5.0, 'userId':...  \n",
       "..                                                 ...  \n",
       "768  [{'date': 2003-12-18, 'rating': 2.0, 'userId':...  \n",
       "769  [{'date': 2003-05-29, 'rating': 3.0, 'userId':...  \n",
       "770  [{'date': 2005-09-02, 'rating': 3.0, 'userId':...  \n",
       "771  [{'date': 2000-10-01, 'rating': 4.0, 'userId':...  \n",
       "772  [{'date': 2001-04-26, 'rating': 4.0, 'userId':...  \n",
       "\n",
       "[773 rows x 4 columns]"
      ]
     },
     "execution_count": 29,
     "metadata": {},
     "output_type": "execute_result"
    }
   ],
   "source": [
    "matrix_df"
   ]
  },
  {
   "cell_type": "markdown",
   "metadata": {},
   "source": [
    "### Feature engineering:\n",
    "\n",
    "A user-item matrix will be created."
   ]
  },
  {
   "cell_type": "code",
   "execution_count": 30,
   "metadata": {},
   "outputs": [
    {
     "name": "stdout",
     "output_type": "stream",
     "text": [
      "     movieId                                        review_data\n",
      "0          1  [{'date': 2005-09-06, 'rating': 3.0, 'userId':...\n",
      "1          2  [{'date': 2005-09-05, 'rating': 4.0, 'userId':...\n",
      "2          3  [{'date': 2003-03-29, 'rating': 4.0, 'userId':...\n",
      "3          4  [{'date': 2005-09-06, 'rating': 3.0, 'userId':...\n",
      "4          5  [{'date': 2005-02-08, 'rating': 5.0, 'userId':...\n",
      "..       ...                                                ...\n",
      "768    13508  [{'date': 2003-12-18, 'rating': 2.0, 'userId':...\n",
      "769    13509  [{'date': 2003-05-29, 'rating': 3.0, 'userId':...\n",
      "770    13510  [{'date': 2005-09-02, 'rating': 3.0, 'userId':...\n",
      "771    13511  [{'date': 2000-10-01, 'rating': 4.0, 'userId':...\n",
      "772    13512  [{'date': 2001-04-26, 'rating': 4.0, 'userId':...\n",
      "\n",
      "[773 rows x 2 columns]\n"
     ]
    }
   ],
   "source": [
    "matrix_df = matrix_df.drop(['year','title'],axis=1)\n",
    "print(matrix_df)"
   ]
  },
  {
   "cell_type": "markdown",
   "metadata": {},
   "source": [
    "#### Let's work with movies and reviews first, add other features later:\n",
    "\n",
    "Only first two keys of dictionary will be kept to accomplish this."
   ]
  },
  {
   "cell_type": "code",
   "execution_count": 31,
   "metadata": {},
   "outputs": [],
   "source": [
    "matrix_df['review_data'] = matrix_df['review_data'].apply(lambda x: None if x is None else [{'userId': review['userId'], 'rating': review['rating']} for review in x if 'userId' in review and 'rating' in review])"
   ]
  },
  {
   "cell_type": "markdown",
   "metadata": {},
   "source": [
    "First we need to find unique user and item(movie)ids:"
   ]
  },
  {
   "cell_type": "code",
   "execution_count": 33,
   "metadata": {},
   "outputs": [],
   "source": [
    "# set is used because it does not allow for duplicates\n",
    "user_ids = set()\n",
    "\n",
    "# iterate over each row\n",
    "for index, row in matrix_df.iterrows():\n",
    "    # iterate over each dictionary in the 'review_data' column of the current row\n",
    "    for review_dict in row['review_data']:\n",
    "        user_id = review_dict.get('userId')  # Extract userId from the dictionary\n",
    "        if user_id:  # Check if userId exists\n",
    "            user_ids.add(user_id)  # Add user ID to the set\n",
    "\n",
    "user_ids = list(user_ids)"
   ]
  },
  {
   "cell_type": "code",
   "execution_count": 34,
   "metadata": {},
   "outputs": [],
   "source": [
    "# put movieids in set so duplicates are not allowed for here either\n",
    "item_ids = list(set(matrix_df['movieId'].unique()))"
   ]
  },
  {
   "cell_type": "markdown",
   "metadata": {},
   "source": [
    "We will initialize the matrix now:"
   ]
  },
  {
   "cell_type": "code",
   "execution_count": 35,
   "metadata": {},
   "outputs": [],
   "source": [
    "num_users = len(user_ids)\n",
    "num_items = len(item_ids)\n",
    "user_item_matrix = np.zeros((num_items, num_users))"
   ]
  },
  {
   "cell_type": "markdown",
   "metadata": {},
   "source": [
    "Now we will populate the matrix with the matrix_df values:"
   ]
  },
  {
   "cell_type": "code",
   "execution_count": 37,
   "metadata": {},
   "outputs": [],
   "source": [
    "# # this for loop looks into each values of both keys in the dictionary in the review_data column\n",
    "# for i, reviews in enumerate(matrix_df['review_data']):\n",
    "#     for review in reviews:\n",
    "#         user_idx = user_ids.index(review['userId'])\n",
    "#         user_item_matrix[i, user_idx] = review['rating']\n",
    "\n",
    "# Assuming user_ids is a list of unique user IDs\n",
    "user_ids_dict = {uid: idx for idx, uid in enumerate(user_ids)}\n",
    "\n",
    "for i, reviews in enumerate(matrix_df['review_data']):\n",
    "    for review in reviews:\n",
    "        user_idx = user_ids_dict.get(review['userId'])\n",
    "        if user_idx is not None:  # Check if user exists in user_ids\n",
    "            user_item_matrix[i, user_idx] = review['rating']"
   ]
  },
  {
   "cell_type": "code",
   "execution_count": 38,
   "metadata": {},
   "outputs": [
    {
     "data": {
      "text/plain": [
       "array([[0., 0., 0., ..., 0., 0., 0.],\n",
       "       [0., 0., 0., ..., 0., 0., 0.],\n",
       "       [0., 0., 0., ..., 0., 0., 0.],\n",
       "       ...,\n",
       "       [0., 0., 0., ..., 0., 0., 0.],\n",
       "       [4., 0., 0., ..., 0., 0., 0.],\n",
       "       [0., 0., 0., ..., 0., 0., 0.]])"
      ]
     },
     "execution_count": 38,
     "metadata": {},
     "output_type": "execute_result"
    }
   ],
   "source": [
    "user_item_matrix"
   ]
  }
 ],
 "metadata": {
  "kernelspec": {
   "display_name": "master_ddb",
   "language": "python",
   "name": "python3"
  },
  "language_info": {
   "codemirror_mode": {
    "name": "ipython",
    "version": 3
   },
   "file_extension": ".py",
   "mimetype": "text/x-python",
   "name": "python",
   "nbconvert_exporter": "python",
   "pygments_lexer": "ipython3",
   "version": "3.10.11"
  }
 },
 "nbformat": 4,
 "nbformat_minor": 2
}
